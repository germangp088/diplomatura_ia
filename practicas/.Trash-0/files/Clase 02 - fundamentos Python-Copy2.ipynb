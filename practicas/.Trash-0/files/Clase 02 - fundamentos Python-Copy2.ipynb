{
 "cells": [
  {
   "cell_type": "markdown",
   "metadata": {
    "id": "nR87mLq2hG_h"
   },
   "source": [
    "Imprimir una cadena de Texto (agregar algún comentario en el bloque de código)"
   ]
  },
  {
   "cell_type": "code",
   "execution_count": 1,
   "metadata": {
    "id": "ruayOhAUoSqi"
   },
   "outputs": [
    {
     "name": "stdout",
     "output_type": "stream",
     "text": [
      "imprime esta!\n"
     ]
    }
   ],
   "source": [
    "# soy un comentario\n",
    "print(\"imprime esta!\")"
   ]
  },
  {
   "cell_type": "markdown",
   "metadata": {
    "id": "gQyJrIKIhLnh"
   },
   "source": [
    "Crear una variable, asignarle un valor e imprimirlo por consola"
   ]
  },
  {
   "cell_type": "code",
   "execution_count": 1,
   "metadata": {
    "id": "LoKXkkAWAP4Q"
   },
   "outputs": [
    {
     "name": "stdout",
     "output_type": "stream",
     "text": [
      "Hola, mundo!\n"
     ]
    }
   ],
   "source": [
    "mensaje = \"Hola, mundo!\"\n",
    "print(mensaje)"
   ]
  },
  {
   "cell_type": "markdown",
   "metadata": {
    "id": "5tLNAKL6hWCD"
   },
   "source": [
    "*Revisar* atributos de un objeto - ej: .real"
   ]
  },
  {
   "cell_type": "code",
   "execution_count": 2,
   "metadata": {
    "id": "yTO6YR_2kZci"
   },
   "outputs": [
    {
     "name": "stdout",
     "output_type": "stream",
     "text": [
      "3.0\n",
      "4.0\n"
     ]
    }
   ],
   "source": [
    "z = 3 + 4j\n",
    "print(z.real)\n",
    "print(z.imag)"
   ]
  },
  {
   "cell_type": "markdown",
   "metadata": {
    "id": "TL4AsE0z4sM7"
   },
   "source": [
    "Métodos de un objeto"
   ]
  },
  {
   "cell_type": "code",
   "execution_count": 3,
   "metadata": {
    "id": "EqvZhgTI4vEW"
   },
   "outputs": [
    {
     "data": {
      "text/plain": [
       "['__add__',\n",
       " '__class__',\n",
       " Ellipsis,\n",
       " 'append',\n",
       " 'clear',\n",
       " 'copy',\n",
       " 'count',\n",
       " 'extend',\n",
       " 'index',\n",
       " 'insert',\n",
       " 'pop',\n",
       " 'remove',\n",
       " 'reverse',\n",
       " 'sort']"
      ]
     },
     "execution_count": 3,
     "metadata": {},
     "output_type": "execute_result"
    }
   ],
   "source": [
    "# Método de un objeto\n",
    "['__add__', '__class__', ..., 'append', 'clear', 'copy', 'count', 'extend', 'index', 'insert', 'pop', 'remove', 'reverse', 'sort']"
   ]
  },
  {
   "cell_type": "markdown",
   "metadata": {
    "id": "F2m5FKEW41Yu"
   },
   "source": [
    "Operadores Relacionales / Comparación"
   ]
  },
  {
   "cell_type": "code",
   "execution_count": 5,
   "metadata": {
    "id": "uzhzjApo448B",
    "scrolled": true
   },
   "outputs": [
    {
     "name": "stdout",
     "output_type": "stream",
     "text": [
      "==\n",
      "!=\n",
      ">\n",
      "<\n",
      ">=\n",
      "<=\n"
     ]
    }
   ],
   "source": [
    "# operadores de comparación\n",
    "print(\"==\")\n",
    "print(\"!=\")\n",
    "print(\">\")\n",
    "print(\"<\")\n",
    "print(\">=\")\n",
    "print(\"<=\")"
   ]
  },
  {
   "cell_type": "markdown",
   "metadata": {
    "id": "8K6Igb0u483d"
   },
   "source": [
    "Operadores Aritméticos"
   ]
  },
  {
   "cell_type": "code",
   "execution_count": 7,
   "metadata": {
    "id": "5HiiViVh5G3X"
   },
   "outputs": [
    {
     "name": "stdout",
     "output_type": "stream",
     "text": [
      "Suma: 13\n",
      "Resta: 7\n",
      "Multiplicación: 30\n",
      "División: 3.3333333333333335\n",
      "División entera: 3\n",
      "Módulo: 1\n",
      "Potencia: 1000\n"
     ]
    }
   ],
   "source": [
    "# operadores aritméticos\n",
    "a = 10\n",
    "b = 3\n",
    "print(\"Suma:\", a + b)\n",
    "print(\"Resta:\", a - b)\n",
    "print(\"Multiplicación:\", a * b)\n",
    "print(\"División:\", a / b)\n",
    "print(\"División entera:\", a // b)\n",
    "print(\"Módulo:\", a % b)\n",
    "print(\"Potencia:\", a ** b)"
   ]
  },
  {
   "cell_type": "markdown",
   "metadata": {
    "id": "aSUyyyxM5Ldb"
   },
   "source": [
    "Operadores de Asignación"
   ]
  },
  {
   "cell_type": "code",
   "execution_count": 8,
   "metadata": {
    "id": "H1hdANbk5OL_"
   },
   "outputs": [
    {
     "name": "stdout",
     "output_type": "stream",
     "text": [
      "13\n",
      "7\n",
      "30\n",
      "3.3333333333333335\n",
      "3\n",
      "1\n",
      "1000\n"
     ]
    }
   ],
   "source": [
    "# operadores de asignación\n",
    "a = 10\n",
    "b = 3\n",
    "\n",
    "print(a + b)   # Suma → 13\n",
    "print(a - b)   # Resta → 7\n",
    "print(a * b)   # Multiplicación → 30\n",
    "print(a / b)   # División → 3.333...\n",
    "print(a // b)  # División entera → 3\n",
    "print(a % b)   # Módulo → 1\n",
    "print(a ** b)  # Potencia → 1000\n"
   ]
  },
  {
   "cell_type": "markdown",
   "metadata": {
    "id": "8Ju36gt35S6E"
   },
   "source": [
    "Bucle 'For'"
   ]
  },
  {
   "cell_type": "code",
   "execution_count": 9,
   "metadata": {
    "id": "ETCKzCU95V4n"
   },
   "outputs": [
    {
     "name": "stdout",
     "output_type": "stream",
     "text": [
      "Me gusta la manzana\n",
      "Me gusta la banana\n",
      "Me gusta la naranja\n"
     ]
    }
   ],
   "source": [
    "frutas = [\"manzana\", \"banana\", \"naranja\"]\n",
    "\n",
    "for fruta in frutas:\n",
    "    print(\"Me gusta la\", fruta)"
   ]
  },
  {
   "cell_type": "markdown",
   "metadata": {
    "id": "KHRIP3LG5WzS"
   },
   "source": [
    "Estructura del FOR (Ejemplo)"
   ]
  },
  {
   "cell_type": "code",
   "execution_count": null,
   "metadata": {
    "id": "HdMpTnaD5bqN"
   },
   "outputs": [],
   "source": [
    "frutas = [\"manzana\", \"banana\", \"naranja\"]\n",
    "\n",
    "for fruta in frutas:\n",
    "    print(\"Me gusta la\", fruta)"
   ]
  },
  {
   "cell_type": "markdown",
   "metadata": {
    "id": "jXiTkctW5df5"
   },
   "source": [
    "Estructura del WHILE (Ejemplo)"
   ]
  },
  {
   "cell_type": "code",
   "execution_count": 11,
   "metadata": {
    "id": "ZbX_GW4O5gj-"
   },
   "outputs": [
    {
     "name": "stdout",
     "output_type": "stream",
     "text": [
      "Contador: 1\n",
      "Contador: 2\n",
      "Contador: 3\n",
      "Contador: 4\n",
      "Contador: 5\n"
     ]
    }
   ],
   "source": [
    "contador = 1\n",
    "\n",
    "while contador <= 5:\n",
    "    print(\"Contador:\", contador)\n",
    "    contador += 1\n"
   ]
  },
  {
   "cell_type": "markdown",
   "metadata": {
    "id": "Krz5K8gx5hE4"
   },
   "source": [
    "Condicionales: Estructura del IF"
   ]
  },
  {
   "cell_type": "code",
   "execution_count": 12,
   "metadata": {
    "id": "oUEqzQKM5k8D"
   },
   "outputs": [
    {
     "name": "stdout",
     "output_type": "stream",
     "text": [
      "Muy bien 👍\n"
     ]
    }
   ],
   "source": [
    "nota = 7\n",
    "\n",
    "if nota >= 9:\n",
    "    print(\"Excelente\")\n",
    "elif nota >= 7:\n",
    "    print(\"Muy bien\")\n",
    "else:\n",
    "    print(\"A seguir estudiando\")"
   ]
  },
  {
   "cell_type": "markdown",
   "metadata": {
    "id": "YUZNcEuG5mrq"
   },
   "source": [
    "Leer un archivo *csv que está en Google Drive"
   ]
  },
  {
   "cell_type": "code",
   "execution_count": 14,
   "metadata": {
    "id": "90afR0f45riU"
   },
   "outputs": [
    {
     "name": "stdout",
     "output_type": "stream",
     "text": [
      "Collecting gdown\n",
      "  Downloading gdown-5.2.0-py3-none-any.whl.metadata (5.8 kB)\n",
      "Requirement already satisfied: beautifulsoup4 in /opt/conda/lib/python3.12/site-packages (from gdown) (4.12.3)\n",
      "Requirement already satisfied: filelock in /opt/conda/lib/python3.12/site-packages (from gdown) (3.13.1)\n",
      "Requirement already satisfied: requests[socks] in /opt/conda/lib/python3.12/site-packages (from gdown) (2.32.3)\n",
      "Requirement already satisfied: tqdm in /opt/conda/lib/python3.12/site-packages (from gdown) (4.66.5)\n",
      "Requirement already satisfied: soupsieve>1.2 in /opt/conda/lib/python3.12/site-packages (from beautifulsoup4->gdown) (2.5)\n",
      "Requirement already satisfied: charset-normalizer<4,>=2 in /opt/conda/lib/python3.12/site-packages (from requests[socks]->gdown) (3.3.2)\n",
      "Requirement already satisfied: idna<4,>=2.5 in /opt/conda/lib/python3.12/site-packages (from requests[socks]->gdown) (3.7)\n",
      "Requirement already satisfied: urllib3<3,>=1.21.1 in /opt/conda/lib/python3.12/site-packages (from requests[socks]->gdown) (2.2.3)\n",
      "Requirement already satisfied: certifi>=2017.4.17 in /opt/conda/lib/python3.12/site-packages (from requests[socks]->gdown) (2024.8.30)\n",
      "Requirement already satisfied: PySocks!=1.5.7,>=1.5.6 in /opt/conda/lib/python3.12/site-packages (from requests[socks]->gdown) (1.7.1)\n",
      "Downloading gdown-5.2.0-py3-none-any.whl (18 kB)\n",
      "Installing collected packages: gdown\n",
      "Successfully installed gdown-5.2.0\n",
      "\u001b[33mWARNING: Running pip as the 'root' user can result in broken permissions and conflicting behaviour with the system package manager, possibly rendering your system unusable.It is recommended to use a virtual environment instead: https://pip.pypa.io/warnings/venv. Use the --root-user-action option if you know what you are doing and want to suppress this warning.\u001b[0m\u001b[33m\n",
      "\u001b[0m"
     ]
    },
    {
     "name": "stderr",
     "output_type": "stream",
     "text": [
      "Downloading...\n",
      "From: https://drive.google.com/uc?id=1qMEBDvKZXLb21px524kFTWuZ4bSzZutX\n",
      "To: /home/Fede/archivo.csv\n",
      "100%|██████████| 9.13M/9.13M [00:00<00:00, 18.1MB/s]\n"
     ]
    },
    {
     "name": "stdout",
     "output_type": "stream",
     "text": [
      "        Product      Brand Product Code  \\\n",
      "0  Mobile Phone   Motorola     88EB4558   \n",
      "1        Laptop       Oppo     416DFEEB   \n",
      "2  Mobile Phone    Samsung     9F975B08   \n",
      "3        Laptop       Sony     73D2A7CC   \n",
      "4        Laptop  Microsoft     CCE0B80D   \n",
      "\n",
      "                               Product Specification   Price Inward Date  \\\n",
      "0  Site candidate activity company there bit insi...   78570  2023-08-02   \n",
      "1            Beat put care fight affect address his.   44613  2023-10-03   \n",
      "2           Energy special low seven place audience.  159826  2025-03-19   \n",
      "3  Friend record hard contain minute we role sea ...   20911  2024-02-06   \n",
      "4   Program recently feeling save tree hotel people.   69832  2023-08-10   \n",
      "\n",
      "  Dispatch Date  Quantity Sold  Customer Name Customer Location   Region  \\\n",
      "0    2023-08-03              6   William Hess      South Kelsey  Central   \n",
      "1    2023-10-06              1    Larry Smith        North Lisa    South   \n",
      "2    2025-03-20              5  Leah Copeland        South Todd  Central   \n",
      "3    2024-03-27              1      Dan Kirby   New Jordanmouth    South   \n",
      "4    2023-09-10              4    Dean Martin          Keithton     East   \n",
      "\n",
      "  Core Specification Processor Specification   RAM    ROM    SSD  \n",
      "0                NaN        Snapdragon 7 Gen  12GB  128GB    NaN  \n",
      "1            Ryzen 5                 Ryzen 5   8GB  512GB  256GB  \n",
      "2                NaN      MediaTek Dimensity   8GB  256GB    NaN  \n",
      "3                 i7                      i7  12GB   64GB    2TB  \n",
      "4                 i7                      i7   8GB  128GB    2TB  \n"
     ]
    }
   ],
   "source": [
    "!pip install gdown\n",
    "import gdown\n",
    "import pandas as pd\n",
    "\n",
    "file_id = \"1qMEBDvKZXLb21px524kFTWuZ4bSzZutX\"\n",
    "url = f\"https://drive.google.com/uc?id={file_id}\"\n",
    "output = \"archivo.csv\"\n",
    "\n",
    "gdown.download(url, output, quiet=False)\n",
    "df = pd.read_csv(output)\n",
    "\n",
    "print(df.head())"
   ]
  },
  {
   "cell_type": "code",
   "execution_count": null,
   "metadata": {
    "id": "6JPG1o0c5xD5"
   },
   "outputs": [],
   "source": []
  },
  {
   "cell_type": "code",
   "execution_count": null,
   "metadata": {
    "id": "LfDmJ_dq5zGq"
   },
   "outputs": [],
   "source": []
  },
  {
   "cell_type": "markdown",
   "metadata": {
    "id": "GkmzoHHw51bG"
   },
   "source": [
    "Leer un archivo *.csv que está en Localhost"
   ]
  },
  {
   "cell_type": "code",
   "execution_count": 2,
   "metadata": {
    "id": "Nj7GYeq-55O1"
   },
   "outputs": [],
   "source": [
    "import pandas as pd"
   ]
  },
  {
   "cell_type": "code",
   "execution_count": 6,
   "metadata": {
    "id": "_rNxK3YE57d7"
   },
   "outputs": [
    {
     "name": "stdout",
     "output_type": "stream",
     "text": [
      "        Unnamed: 0  Murder  Assault  UrbanPop  Rape\n",
      "0          Alabama    13.2      236        58  21.2\n",
      "1           Alaska    10.0      263        48  44.5\n",
      "2          Arizona     8.1      294        80  31.0\n",
      "3         Arkansas     8.8      190        50  19.5\n",
      "4       California     9.0      276        91  40.6\n",
      "5         Colorado     7.9      204        78  38.7\n",
      "6      Connecticut     3.3      110        77  11.1\n",
      "7         Delaware     5.9      238        72  15.8\n",
      "8          Florida    15.4      335        80  31.9\n",
      "9          Georgia    17.4      211        60  25.8\n",
      "10          Hawaii     5.3       46        83  20.2\n",
      "11           Idaho     2.6      120        54  14.2\n",
      "12        Illinois    10.4      249        83  24.0\n",
      "13         Indiana     7.2      113        65  21.0\n",
      "14            Iowa     2.2       56        57  11.3\n",
      "15          Kansas     6.0      115        66  18.0\n",
      "16        Kentucky     9.7      109        52  16.3\n",
      "17       Louisiana    15.4      249        66  22.2\n",
      "18           Maine     2.1       83        51   7.8\n",
      "19        Maryland    11.3      300        67  27.8\n",
      "20   Massachusetts     4.4      149        85  16.3\n",
      "21        Michigan    12.1      255        74  35.1\n",
      "22       Minnesota     2.7       72        66  14.9\n",
      "23     Mississippi    16.1      259        44  17.1\n",
      "24        Missouri     9.0      178        70  28.2\n",
      "25         Montana     6.0      109        53  16.4\n",
      "26        Nebraska     4.3      102        62  16.5\n",
      "27          Nevada    12.2      252        81  46.0\n",
      "28   New Hampshire     2.1       57        56   9.5\n",
      "29      New Jersey     7.4      159        89  18.8\n",
      "30      New Mexico    11.4      285        70  32.1\n",
      "31        New York    11.1      254        86  26.1\n",
      "32  North Carolina    13.0      337        45  16.1\n",
      "33    North Dakota     0.8       45        44   7.3\n",
      "34            Ohio     7.3      120        75  21.4\n",
      "35        Oklahoma     6.6      151        68  20.0\n",
      "36          Oregon     4.9      159        67  29.3\n",
      "37    Pennsylvania     6.3      106        72  14.9\n",
      "38    Rhode Island     3.4      174        87   8.3\n",
      "39  South Carolina    14.4      279        48  22.5\n",
      "40    South Dakota     3.8       86        45  12.8\n",
      "41       Tennessee    13.2      188        59  26.9\n",
      "42           Texas    12.7      201        80  25.5\n",
      "43            Utah     3.2      120        80  22.9\n",
      "44         Vermont     2.2       48        32  11.2\n",
      "45        Virginia     8.5      156        63  20.7\n",
      "46      Washington     4.0      145        73  26.2\n",
      "47   West Virginia     5.7       81        39   9.3\n",
      "48       Wisconsin     2.6       53        66  10.8\n",
      "49         Wyoming     6.8      161        60  15.6\n"
     ]
    }
   ],
   "source": [
    "df = pd.read_csv(\"../Clase 02 - USArrests.csv\")\n",
    "print(df)"
   ]
  },
  {
   "cell_type": "code",
   "execution_count": null,
   "metadata": {},
   "outputs": [],
   "source": []
  }
 ],
 "metadata": {
  "colab": {
   "provenance": []
  },
  "kernelspec": {
   "display_name": "Python 3 (ipykernel)",
   "language": "python",
   "name": "python3"
  },
  "language_info": {
   "codemirror_mode": {
    "name": "ipython",
    "version": 3
   },
   "file_extension": ".py",
   "mimetype": "text/x-python",
   "name": "python",
   "nbconvert_exporter": "python",
   "pygments_lexer": "ipython3",
   "version": "3.12.7"
  }
 },
 "nbformat": 4,
 "nbformat_minor": 4
}
