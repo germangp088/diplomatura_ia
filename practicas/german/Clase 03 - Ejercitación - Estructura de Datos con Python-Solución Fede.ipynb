{
 "cells": [
  {
   "cell_type": "markdown",
   "metadata": {
    "id": "4E5ihuW2ONCo"
   },
   "source": [
    "Ejercicio 1. Escribe una función llamada suma que tome dos números como argumentos y devuelva la suma de esos números."
   ]
  },
  {
   "cell_type": "code",
   "execution_count": 1,
   "metadata": {
    "id": "jh4xdYLYN-7K"
   },
   "outputs": [],
   "source": [
    "def suma(a, b):\n",
    "    return a + b"
   ]
  },
  {
   "cell_type": "markdown",
   "metadata": {
    "id": "2qM0Q3BLORIi"
   },
   "source": [
    "Ejercicio 2. Escribe una función llamada cuadrados que tome un número como argumento y devuelva el número elevado al cuadrado de eses argumento."
   ]
  },
  {
   "cell_type": "code",
   "execution_count": null,
   "metadata": {
    "id": "sHtS9-k8OUI-"
   },
   "outputs": [],
   "source": [
    "def cuadrados(numero):\n",
    "    return numero ** 2\n"
   ]
  },
  {
   "cell_type": "markdown",
   "metadata": {
    "id": "6dQq9V5ZOUcB"
   },
   "source": [
    "Ejercicio 3. Escribe una función llamada es_palindromo que tome una cadena como argumento y devuelva True si la cadena es un palíndromo (se lee igual de izquierda a derecha y de derecha a izquierda), y False en caso contrario."
   ]
  },
  {
   "cell_type": "code",
   "execution_count": null,
   "metadata": {
    "id": "_n0El3RtOYuC"
   },
   "outputs": [],
   "source": [
    "def es_palindromo(cadena):\n",
    "    cadena = cadena.lower().replace(\" \", \"\")\n",
    "    return cadena == cadena[::-1]"
   ]
  },
  {
   "cell_type": "markdown",
   "metadata": {
    "id": "16pU5zUtOp9-"
   },
   "source": [
    "Ahora utilizaremos Pandas o Numpy para resolver los siguientes problemas. Primero importaremos ambas librerias y asignaremos el alias **np** para numpy y **pd** para pandas."
   ]
  },
  {
   "cell_type": "code",
   "execution_count": 2,
   "metadata": {
    "id": "93CyqTfXOkaS"
   },
   "outputs": [],
   "source": [
    "import pandas as pd\n",
    "import numpy as np"
   ]
  },
  {
   "cell_type": "markdown",
   "metadata": {
    "id": "D42SjLOvOpS6"
   },
   "source": [
    "\n",
    "Ejercicio 4. Dado un DataFrame de pandas con columnas numéricas, encuentra la suma de cada columna.\n"
   ]
  },
  {
   "cell_type": "code",
   "execution_count": 3,
   "metadata": {
    "id": "a3tl0xe8O3ms"
   },
   "outputs": [
    {
     "name": "stdout",
     "output_type": "stream",
     "text": [
      "A     6\n",
      "B    15\n",
      "dtype: int64\n"
     ]
    }
   ],
   "source": [
    "data = {'A': [1, 2, 3], 'B': [4, 5, 6]}\n",
    "df = pd.DataFrame(data)\n",
    "suma_columnas = df.sum()\n",
    "print(suma_columnas)\n"
   ]
  },
  {
   "cell_type": "markdown",
   "metadata": {
    "id": "Rg2KkBKkOY-s"
   },
   "source": [
    "Ejercicio 5. Dado un DataFrame de pandas con una columna numérica, encuentra la media de esa columna"
   ]
  },
  {
   "cell_type": "code",
   "execution_count": 4,
   "metadata": {
    "id": "L8yk_byCO9cd"
   },
   "outputs": [
    {
     "name": "stdout",
     "output_type": "stream",
     "text": [
      "3.0\n"
     ]
    }
   ],
   "source": [
    "data = {'A': [1, 2, 3, 4, 5]}\n",
    "df = pd.DataFrame(data)\n",
    "media = df['A'].mean()\n",
    "print(media)"
   ]
  },
  {
   "cell_type": "markdown",
   "metadata": {
    "id": "xSTpADPrPCoQ"
   },
   "source": [
    "Ejercicio 6. Dadas dos matrices numpy, realiza una multiplicación de matrices."
   ]
  },
  {
   "cell_type": "code",
   "execution_count": 5,
   "metadata": {
    "id": "pL2yDrchPESH"
   },
   "outputs": [
    {
     "name": "stdout",
     "output_type": "stream",
     "text": [
      "[[19 22]\n",
      " [43 50]]\n"
     ]
    }
   ],
   "source": [
    "matriz1 = np.array([[1, 2], [3, 4]])\n",
    "matriz2 = np.array([[5, 6], [7, 8]])\n",
    "resultado = np.dot(matriz1, matriz2)\n",
    "print(resultado)"
   ]
  },
  {
   "cell_type": "markdown",
   "metadata": {
    "id": "7jLbg1vUPF37"
   },
   "source": [
    "Ejercicio 7. Dado un DataFrame de pandas con una columna de valores numéricos, filtra las filas que cumplan que el valor es mayor a 2."
   ]
  },
  {
   "cell_type": "code",
   "execution_count": 6,
   "metadata": {
    "id": "EXqJNT9BPL9X"
   },
   "outputs": [
    {
     "name": "stdout",
     "output_type": "stream",
     "text": [
      "    A\n",
      "2   3\n",
      "3   4\n",
      "4   5\n",
      "5   8\n",
      "6  10\n",
      "8   8\n",
      "9   6\n"
     ]
    }
   ],
   "source": [
    "data = {'A': [1, 2, 3, 4, 5, 8 , 10, 1, 8, 6]}\n",
    "df = pd.DataFrame(data)\n",
    "df_filtrado = df[df['A'] > 2]\n",
    "print(df_filtrado)"
   ]
  },
  {
   "cell_type": "markdown",
   "metadata": {
    "id": "FXF5ASMcPLm7"
   },
   "source": [
    "Ejercicio 8. Dada una serie de pandas con valores numéricos, calcula la mediana de esos valores.\n"
   ]
  },
  {
   "cell_type": "code",
   "execution_count": 7,
   "metadata": {
    "id": "dqvDLotCPVzU"
   },
   "outputs": [
    {
     "name": "stdout",
     "output_type": "stream",
     "text": [
      "3.0\n"
     ]
    }
   ],
   "source": [
    "serie = pd.Series([1, 2, 3, 4, 5])\n",
    "mediana = serie.median()\n",
    "print(mediana)\n"
   ]
  },
  {
   "cell_type": "markdown",
   "metadata": {
    "id": "BlsJFpQ2Peix"
   },
   "source": [
    "Ejercicio 9. Dado un DataFrame de pandas con columnas numéricas, filtra las filas que cumplan que el valor de A es mayor al de B y luego calcula la suma de las columnas."
   ]
  },
  {
   "cell_type": "code",
   "execution_count": 8,
   "metadata": {
    "id": "x-e7SpwNPjDe"
   },
   "outputs": [
    {
     "name": "stdout",
     "output_type": "stream",
     "text": [
      "A    63\n",
      "B    60\n",
      "dtype: int64\n"
     ]
    }
   ],
   "source": [
    "data = {\"A\": [11, 21, 31, 4, 5], \"B\": [10, 20, 30, 40, 50]}\n",
    "df = pd.DataFrame(data)\n",
    "df_filtrado = df[df[\"A\"] > df[\"B\"]]\n",
    "suma_columnas = df_filtrado.sum()\n",
    "print(suma_columnas)\n"
   ]
  },
  {
   "cell_type": "markdown",
   "metadata": {
    "id": "znyodONRQG-Q"
   },
   "source": [
    "Ejercicio 10. Escribe una solución para encontrar los IDs de productos que son tanto bajos en grasa como reciclables. Devuelve la tabla de resultados en cualquier orden.\n",
    "\n",
    "El formato del resultado es como se muestra en el siguiente ejemplo.\n",
    "\n",
    "\n",
    "\n",
    "```\n",
    "+-------------+\n",
    "| product_id  |\n",
    "+-------------+\n",
    "| 1           |\n",
    "| 3           |\n",
    "+-------------+\n",
    "```\n",
    "\n"
   ]
  },
  {
   "cell_type": "code",
   "execution_count": 10,
   "metadata": {
    "id": "QwiTcbZCQGXd"
   },
   "outputs": [
    {
     "name": "stdout",
     "output_type": "stream",
     "text": [
      " product_id\n",
      "          1\n",
      "          3\n"
     ]
    }
   ],
   "source": [
    "data = {\n",
    "    'product_id': [0, 1, 2, 3, 4,5],\n",
    "    'low_fats': ['Y', 'Y', 'N', 'Y', 'N','N'],\n",
    "    'recyclable': ['N', 'Y', 'Y', 'Y', 'N', 'Y']\n",
    "}\n",
    "df = pd.DataFrame(data)\n",
    "resultado = df[(df['low_fats'] == 'Y') & (df['recyclable'] == 'Y')][['product_id']]\n",
    "print(resultado.to_string(index=False))\n"
   ]
  },
  {
   "cell_type": "markdown",
   "metadata": {
    "id": "zNa7ka0eQ7gv"
   },
   "source": [
    "Ejercicio 11. Escribe una solución para calcular el tiempo total en minutos que cada empleado pasó en la oficina cada día. Ten en cuenta que en un solo día, un empleado puede entrar y salir más de una vez. El tiempo que un empleado pasó en la oficina para una sola entrada es igual a la hora de salida (out_time) menos la hora de entrada (in_time). Si el resultado son tiempos negativos cambiar ese valor por un 0 (cero). Devuelve la tabla de resultados en cualquier orden.\n",
    "\n",
    "El formato del resultado es como se muestra en el siguiente ejemplo.\n",
    "\n",
    "\n",
    "\n",
    "\n",
    "\n",
    "```\n",
    "+------------+--------+------------+\n",
    "| day        | emp_id | total_time |\n",
    "+------------+--------+------------+\n",
    "| 2020-11-28 | 1      | 173        |\n",
    "| 2020-11-28 | 2      | 30         |\n",
    "| 2020-12-03 | 1      | 41         |\n",
    "| 2020-12-09 | 2      | 27         |\n",
    "+------------+--------+------------+\n",
    "```\n",
    "\n",
    "\n"
   ]
  },
  {
   "cell_type": "code",
   "execution_count": 11,
   "metadata": {
    "colab": {
     "base_uri": "https://localhost:8080/"
    },
    "executionInfo": {
     "elapsed": 331,
     "status": "ok",
     "timestamp": 1712276359499,
     "user": {
      "displayName": "Juan Manuel Miguez",
      "userId": "12274514258704764447"
     },
     "user_tz": 180
    },
    "id": "M6CayzGPQa6U",
    "outputId": "56c8afe5-39cf-45d0-a054-7da677ba0438"
   },
   "outputs": [
    {
     "name": "stdout",
     "output_type": "stream",
     "text": [
      "    emp_id   event_day  in_time  out_time\n",
      "0        1  2020-11-28        4        32\n",
      "1        1  2020-11-28       55       200\n",
      "2        1  2020-12-03        1        42\n",
      "3        2  2020-11-28        3        33\n",
      "4        2  2020-12-09       47        74\n",
      "5        5  2020-12-04      130       212\n",
      "6        4  2020-11-28      240       260\n",
      "7        2  2020-12-07      219       274\n",
      "8        2  2020-12-10      189       372\n",
      "9        5  2020-12-02      184       333\n",
      "10       1  2020-12-06      151       281\n",
      "11       1  2020-12-06        3        80\n",
      "12       1  2020-12-09       82        97\n",
      "13       5  2020-12-12      100       199\n",
      "14       1  2020-12-06       92       257\n",
      "15       2  2020-12-06      148       366\n",
      "16       4  2020-12-10      209       437\n",
      "17       2  2020-12-04      184       277\n",
      "18       4  2020-12-11       44       136\n",
      "19       3  2020-12-04       87        98\n",
      "20       4  2020-12-02       61       166\n",
      "21       4  2020-12-06      180       314\n",
      "22       2  2020-11-29      205       408\n",
      "23       4  2020-12-04      127       196\n",
      "24       1  2020-12-12      192       313\n",
      "25       5  2020-11-28       66       300\n",
      "26       5  2020-12-08       79       184\n",
      "27       5  2020-12-03      104       172\n",
      "28       3  2020-12-12       63        76\n",
      "29       2  2020-12-01       53       195\n",
      "30       3  2020-11-29      201       369\n",
      "31       2  2020-12-04      169       318\n",
      "32       2  2020-12-06       98       330\n",
      "33       5  2020-12-01      121       133\n",
      "34       5  2020-12-10       42       173\n",
      "35       4  2020-11-29      149       302\n",
      "36       5  2020-12-06      152       244\n",
      "37       5  2020-11-29       16       182\n",
      "38       4  2020-12-09       11       128\n",
      "39       2  2020-12-09      147       239\n",
      "40       3  2020-12-11      200       428\n",
      "41       2  2020-12-13      196       349\n",
      "42       1  2020-12-05      218       273\n",
      "43       2  2020-12-10      239       348\n",
      "44       3  2020-12-03       11       113\n",
      "           day  emp_id  total_time\n",
      "0   2020-11-28       1         173\n",
      "1   2020-11-28       2          30\n",
      "2   2020-11-28       4          20\n",
      "3   2020-11-28       5         234\n",
      "4   2020-11-29       2         203\n",
      "5   2020-11-29       3         168\n",
      "6   2020-11-29       4         153\n",
      "7   2020-11-29       5         166\n",
      "8   2020-12-01       2         142\n",
      "9   2020-12-01       5          12\n",
      "10  2020-12-02       4         105\n",
      "11  2020-12-02       5         149\n",
      "12  2020-12-03       1          41\n",
      "13  2020-12-03       3         102\n",
      "14  2020-12-03       5          68\n",
      "15  2020-12-04       2         242\n",
      "16  2020-12-04       3          11\n",
      "17  2020-12-04       4          69\n",
      "18  2020-12-04       5          82\n",
      "19  2020-12-05       1          55\n",
      "20  2020-12-06       1         372\n",
      "21  2020-12-06       2         450\n",
      "22  2020-12-06       4         134\n",
      "23  2020-12-06       5          92\n",
      "24  2020-12-07       2          55\n",
      "25  2020-12-08       5         105\n",
      "26  2020-12-09       1          15\n",
      "27  2020-12-09       2         119\n",
      "28  2020-12-09       4         117\n",
      "29  2020-12-10       2         292\n",
      "30  2020-12-10       4         228\n",
      "31  2020-12-10       5         131\n",
      "32  2020-12-11       3         228\n",
      "33  2020-12-11       4          92\n",
      "34  2020-12-12       1         121\n",
      "35  2020-12-12       3          13\n",
      "36  2020-12-12       5          99\n",
      "37  2020-12-13       2         153\n"
     ]
    }
   ],
   "source": [
    "import random\n",
    "from datetime import datetime, timedelta\n",
    "\n",
    "# Crear el DataFrame original\n",
    "data = {\n",
    "    'emp_id': [1, 1, 1, 2, 2],\n",
    "    'event_day': ['2020-11-28', '2020-11-28', '2020-12-03', '2020-11-28', '2020-12-09'],\n",
    "    'in_time': [4, 55, 1, 3, 47],\n",
    "    'out_time': [32, 200, 42, 33, 74]\n",
    "}\n",
    "\n",
    "df = pd.DataFrame(data)\n",
    "\n",
    "# Generar 40 filas adicionales con datos aleatorios\n",
    "additional_data = []\n",
    "\n",
    "for _ in range(40):\n",
    "    emp_id = random.randint(1, 5)\n",
    "    event_day = (datetime(2020, 11, 28) + timedelta(days=random.randint(0, 15))).strftime('%Y-%m-%d')\n",
    "    in_time = random.randint(0, 240)\n",
    "    out_time = in_time + random.randint(1, 240)\n",
    "    additional_data.append([emp_id, event_day, in_time, out_time])\n",
    "\n",
    "additional_df = pd.DataFrame(additional_data, columns=['emp_id', 'event_day', 'in_time', 'out_time'])\n",
    "\n",
    "# Concatenar el DataFrame original y el DataFrame adicional\n",
    "df = pd.concat([df, additional_df], ignore_index=True)\n",
    "\n",
    "# Mostrar el DataFrame resultante\n",
    "print(df)\n",
    "\n",
    "\n",
    "## Aca debajo se puede comenzar a resolver el ejercicio.\n",
    "df[\"duration\"] = df[\"out_time\"] - df[\"in_time\"]\n",
    "\n",
    "df[\"duration\"] = df[\"duration\"].apply(lambda x: max(x, 0))\n",
    "\n",
    "resultado = df.groupby([\"event_day\", \"emp_id\"], as_index=False)[\"duration\"].sum()\n",
    "\n",
    "resultado.rename(columns={\"event_day\": \"day\", \"duration\": \"total_time\"}, inplace=True)\n",
    "\n",
    "print(resultado)\n"
   ]
  },
  {
   "cell_type": "code",
   "execution_count": null,
   "metadata": {},
   "outputs": [],
   "source": []
  }
 ],
 "metadata": {
  "colab": {
   "provenance": []
  },
  "kernelspec": {
   "display_name": "Python 3 (ipykernel)",
   "language": "python",
   "name": "python3"
  },
  "language_info": {
   "codemirror_mode": {
    "name": "ipython",
    "version": 3
   },
   "file_extension": ".py",
   "mimetype": "text/x-python",
   "name": "python",
   "nbconvert_exporter": "python",
   "pygments_lexer": "ipython3",
   "version": "3.12.7"
  }
 },
 "nbformat": 4,
 "nbformat_minor": 4
}
