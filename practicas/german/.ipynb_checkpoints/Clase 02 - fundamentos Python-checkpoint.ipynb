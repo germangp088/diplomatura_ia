{
 "cells": [
  {
   "cell_type": "markdown",
   "metadata": {
    "id": "nR87mLq2hG_h"
   },
   "source": [
    "Imprimir una cadena de Texto (agregar algún comentario en el bloque de código)"
   ]
  },
  {
   "cell_type": "code",
   "execution_count": 1,
   "metadata": {
    "id": "ruayOhAUoSqi"
   },
   "outputs": [
    {
     "name": "stdout",
     "output_type": "stream",
     "text": [
      "imprime esta!\n"
     ]
    }
   ],
   "source": [
    "# soy un comentario\n",
    "print(\"imprime esta!\")"
   ]
  },
  {
   "cell_type": "markdown",
   "metadata": {
    "id": "gQyJrIKIhLnh"
   },
   "source": [
    "Crear una variable, asignarle un valor e imprimirlo por consola"
   ]
  },
  {
   "cell_type": "code",
   "execution_count": null,
   "metadata": {
    "id": "LoKXkkAWAP4Q"
   },
   "outputs": [],
   "source": []
  },
  {
   "cell_type": "markdown",
   "metadata": {
    "id": "5tLNAKL6hWCD"
   },
   "source": [
    "*Revisar* atributos de un objeto - ej: .real"
   ]
  },
  {
   "cell_type": "code",
   "execution_count": null,
   "metadata": {
    "id": "yTO6YR_2kZci"
   },
   "outputs": [],
   "source": []
  },
  {
   "cell_type": "markdown",
   "metadata": {
    "id": "TL4AsE0z4sM7"
   },
   "source": [
    "Métodos de un objeto"
   ]
  },
  {
   "cell_type": "code",
   "execution_count": null,
   "metadata": {
    "id": "EqvZhgTI4vEW"
   },
   "outputs": [],
   "source": [
    "# Método de un objeto\n"
   ]
  },
  {
   "cell_type": "markdown",
   "metadata": {
    "id": "F2m5FKEW41Yu"
   },
   "source": [
    "Operadores Relacionales / Comparación"
   ]
  },
  {
   "cell_type": "code",
   "execution_count": null,
   "metadata": {
    "id": "uzhzjApo448B"
   },
   "outputs": [],
   "source": [
    "# operadores de comparación\n"
   ]
  },
  {
   "cell_type": "markdown",
   "metadata": {
    "id": "8K6Igb0u483d"
   },
   "source": [
    "Operadores Aritméticos"
   ]
  },
  {
   "cell_type": "code",
   "execution_count": null,
   "metadata": {
    "id": "5HiiViVh5G3X"
   },
   "outputs": [],
   "source": [
    "# operadores aritméticos\n"
   ]
  },
  {
   "cell_type": "markdown",
   "metadata": {
    "id": "aSUyyyxM5Ldb"
   },
   "source": [
    "Operadores de Asignación"
   ]
  },
  {
   "cell_type": "code",
   "execution_count": null,
   "metadata": {
    "id": "H1hdANbk5OL_"
   },
   "outputs": [],
   "source": [
    "# operadores de asignación\n"
   ]
  },
  {
   "cell_type": "markdown",
   "metadata": {
    "id": "8Ju36gt35S6E"
   },
   "source": [
    "Bucle 'For'"
   ]
  },
  {
   "cell_type": "code",
   "execution_count": null,
   "metadata": {
    "id": "ETCKzCU95V4n"
   },
   "outputs": [],
   "source": []
  },
  {
   "cell_type": "markdown",
   "metadata": {
    "id": "KHRIP3LG5WzS"
   },
   "source": [
    "Estructura del FOR (Ejemplo)"
   ]
  },
  {
   "cell_type": "code",
   "execution_count": null,
   "metadata": {
    "id": "HdMpTnaD5bqN"
   },
   "outputs": [],
   "source": []
  },
  {
   "cell_type": "markdown",
   "metadata": {
    "id": "jXiTkctW5df5"
   },
   "source": [
    "Estructura del WHILE (Ejemplo)"
   ]
  },
  {
   "cell_type": "code",
   "execution_count": null,
   "metadata": {
    "id": "ZbX_GW4O5gj-"
   },
   "outputs": [],
   "source": []
  },
  {
   "cell_type": "markdown",
   "metadata": {
    "id": "Krz5K8gx5hE4"
   },
   "source": [
    "Condicionales: Estructura del IF"
   ]
  },
  {
   "cell_type": "code",
   "execution_count": null,
   "metadata": {
    "id": "oUEqzQKM5k8D"
   },
   "outputs": [],
   "source": []
  },
  {
   "cell_type": "markdown",
   "metadata": {
    "id": "YUZNcEuG5mrq"
   },
   "source": [
    "Leer un archivo *csv que está en Google Drive"
   ]
  },
  {
   "cell_type": "code",
   "execution_count": null,
   "metadata": {
    "id": "90afR0f45riU"
   },
   "outputs": [],
   "source": []
  },
  {
   "cell_type": "code",
   "execution_count": null,
   "metadata": {
    "id": "6JPG1o0c5xD5"
   },
   "outputs": [],
   "source": []
  },
  {
   "cell_type": "code",
   "execution_count": null,
   "metadata": {
    "id": "LfDmJ_dq5zGq"
   },
   "outputs": [],
   "source": []
  },
  {
   "cell_type": "markdown",
   "metadata": {
    "id": "GkmzoHHw51bG"
   },
   "source": [
    "Leer un archivo *.csv que está en Localhost"
   ]
  },
  {
   "cell_type": "code",
   "execution_count": 2,
   "metadata": {
    "id": "Nj7GYeq-55O1"
   },
   "outputs": [],
   "source": [
    "import pandas as pd"
   ]
  },
  {
   "cell_type": "code",
   "execution_count": 5,
   "metadata": {
    "id": "_rNxK3YE57d7"
   },
   "outputs": [
    {
     "ename": "SyntaxError",
     "evalue": "incomplete input (2180813397.py, line 2)",
     "output_type": "error",
     "traceback": [
      "\u001b[0;36m  Cell \u001b[0;32mIn[5], line 2\u001b[0;36m\u001b[0m\n\u001b[0;31m    print(df\u001b[0m\n\u001b[0m            ^\u001b[0m\n\u001b[0;31mSyntaxError\u001b[0m\u001b[0;31m:\u001b[0m incomplete input\n"
     ]
    }
   ],
   "source": [
    "df = pd.read_csv(\"../Clase 02 - USArrests.csv\")\n",
    "print(df)"
   ]
  },
  {
   "cell_type": "code",
   "execution_count": null,
   "metadata": {},
   "outputs": [],
   "source": []
  }
 ],
 "metadata": {
  "colab": {
   "provenance": []
  },
  "kernelspec": {
   "display_name": "Python 3 (ipykernel)",
   "language": "python",
   "name": "python3"
  },
  "language_info": {
   "codemirror_mode": {
    "name": "ipython",
    "version": 3
   },
   "file_extension": ".py",
   "mimetype": "text/x-python",
   "name": "python",
   "nbconvert_exporter": "python",
   "pygments_lexer": "ipython3",
   "version": "3.12.7"
  }
 },
 "nbformat": 4,
 "nbformat_minor": 4
}
