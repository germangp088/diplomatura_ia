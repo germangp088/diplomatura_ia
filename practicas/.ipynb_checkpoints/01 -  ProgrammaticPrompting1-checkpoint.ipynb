{
 "cells": [
  {
   "cell_type": "code",
   "execution_count": 1,
   "metadata": {
    "executionInfo": {
     "elapsed": 16021,
     "status": "ok",
     "timestamp": 1755103252211,
     "user": {
      "displayName": "Juan Manuel Miguez",
      "userId": "12274514258704764447"
     },
     "user_tz": 180
    },
    "id": "KEYrzG2vB8Ip",
    "scrolled": true
   },
   "outputs": [
    {
     "name": "stdout",
     "output_type": "stream",
     "text": [
      "Collecting litellm\n",
      "  Downloading litellm-1.76.0-py3-none-any.whl.metadata (41 kB)\n",
      "Requirement already satisfied: aiohttp>=3.10 in /opt/conda/lib/python3.12/site-packages (from litellm) (3.10.5)\n",
      "Requirement already satisfied: click in /opt/conda/lib/python3.12/site-packages (from litellm) (8.1.7)\n",
      "Requirement already satisfied: httpx>=0.23.0 in /opt/conda/lib/python3.12/site-packages (from litellm) (0.27.0)\n",
      "Requirement already satisfied: importlib-metadata>=6.8.0 in /opt/conda/lib/python3.12/site-packages (from litellm) (7.0.1)\n",
      "Requirement already satisfied: jinja2<4.0.0,>=3.1.2 in /opt/conda/lib/python3.12/site-packages (from litellm) (3.1.4)\n",
      "Requirement already satisfied: jsonschema<5.0.0,>=4.22.0 in /opt/conda/lib/python3.12/site-packages (from litellm) (4.23.0)\n",
      "Collecting openai>=1.99.5 (from litellm)\n",
      "  Downloading openai-1.102.0-py3-none-any.whl.metadata (29 kB)\n",
      "Requirement already satisfied: pydantic<3.0.0,>=2.5.0 in /opt/conda/lib/python3.12/site-packages (from litellm) (2.8.2)\n",
      "Requirement already satisfied: python-dotenv>=0.2.0 in /opt/conda/lib/python3.12/site-packages (from litellm) (0.21.0)\n",
      "Collecting tiktoken>=0.7.0 (from litellm)\n",
      "  Downloading tiktoken-0.11.0-cp312-cp312-manylinux_2_17_x86_64.manylinux2014_x86_64.whl.metadata (6.7 kB)\n",
      "Collecting tokenizers (from litellm)\n",
      "  Downloading tokenizers-0.21.4-cp39-abi3-manylinux_2_17_x86_64.manylinux2014_x86_64.whl.metadata (6.7 kB)\n",
      "Requirement already satisfied: aiohappyeyeballs>=2.3.0 in /opt/conda/lib/python3.12/site-packages (from aiohttp>=3.10->litellm) (2.4.0)\n",
      "Requirement already satisfied: aiosignal>=1.1.2 in /opt/conda/lib/python3.12/site-packages (from aiohttp>=3.10->litellm) (1.2.0)\n",
      "Requirement already satisfied: attrs>=17.3.0 in /opt/conda/lib/python3.12/site-packages (from aiohttp>=3.10->litellm) (23.1.0)\n",
      "Requirement already satisfied: frozenlist>=1.1.1 in /opt/conda/lib/python3.12/site-packages (from aiohttp>=3.10->litellm) (1.4.0)\n",
      "Requirement already satisfied: multidict<7.0,>=4.5 in /opt/conda/lib/python3.12/site-packages (from aiohttp>=3.10->litellm) (6.0.4)\n",
      "Requirement already satisfied: yarl<2.0,>=1.0 in /opt/conda/lib/python3.12/site-packages (from aiohttp>=3.10->litellm) (1.11.0)\n",
      "Requirement already satisfied: anyio in /opt/conda/lib/python3.12/site-packages (from httpx>=0.23.0->litellm) (4.2.0)\n",
      "Requirement already satisfied: certifi in /opt/conda/lib/python3.12/site-packages (from httpx>=0.23.0->litellm) (2024.8.30)\n",
      "Requirement already satisfied: httpcore==1.* in /opt/conda/lib/python3.12/site-packages (from httpx>=0.23.0->litellm) (1.0.2)\n",
      "Requirement already satisfied: idna in /opt/conda/lib/python3.12/site-packages (from httpx>=0.23.0->litellm) (3.7)\n",
      "Requirement already satisfied: sniffio in /opt/conda/lib/python3.12/site-packages (from httpx>=0.23.0->litellm) (1.3.0)\n",
      "Requirement already satisfied: h11<0.15,>=0.13 in /opt/conda/lib/python3.12/site-packages (from httpcore==1.*->httpx>=0.23.0->litellm) (0.14.0)\n",
      "Requirement already satisfied: zipp>=0.5 in /opt/conda/lib/python3.12/site-packages (from importlib-metadata>=6.8.0->litellm) (3.17.0)\n",
      "Requirement already satisfied: MarkupSafe>=2.0 in /opt/conda/lib/python3.12/site-packages (from jinja2<4.0.0,>=3.1.2->litellm) (2.1.3)\n",
      "Requirement already satisfied: jsonschema-specifications>=2023.03.6 in /opt/conda/lib/python3.12/site-packages (from jsonschema<5.0.0,>=4.22.0->litellm) (2023.7.1)\n",
      "Requirement already satisfied: referencing>=0.28.4 in /opt/conda/lib/python3.12/site-packages (from jsonschema<5.0.0,>=4.22.0->litellm) (0.30.2)\n",
      "Requirement already satisfied: rpds-py>=0.7.1 in /opt/conda/lib/python3.12/site-packages (from jsonschema<5.0.0,>=4.22.0->litellm) (0.10.6)\n",
      "Requirement already satisfied: distro<2,>=1.7.0 in /opt/conda/lib/python3.12/site-packages (from openai>=1.99.5->litellm) (1.9.0)\n",
      "Collecting jiter<1,>=0.4.0 (from openai>=1.99.5->litellm)\n",
      "  Downloading jiter-0.10.0-cp312-cp312-manylinux_2_17_x86_64.manylinux2014_x86_64.whl.metadata (5.2 kB)\n",
      "Requirement already satisfied: tqdm>4 in /opt/conda/lib/python3.12/site-packages (from openai>=1.99.5->litellm) (4.66.5)\n",
      "Requirement already satisfied: typing-extensions<5,>=4.11 in /opt/conda/lib/python3.12/site-packages (from openai>=1.99.5->litellm) (4.11.0)\n",
      "Requirement already satisfied: annotated-types>=0.4.0 in /opt/conda/lib/python3.12/site-packages (from pydantic<3.0.0,>=2.5.0->litellm) (0.6.0)\n",
      "Requirement already satisfied: pydantic-core==2.20.1 in /opt/conda/lib/python3.12/site-packages (from pydantic<3.0.0,>=2.5.0->litellm) (2.20.1)\n",
      "Requirement already satisfied: regex>=2022.1.18 in /opt/conda/lib/python3.12/site-packages (from tiktoken>=0.7.0->litellm) (2024.9.11)\n",
      "Requirement already satisfied: requests>=2.26.0 in /opt/conda/lib/python3.12/site-packages (from tiktoken>=0.7.0->litellm) (2.32.3)\n",
      "Collecting huggingface-hub<1.0,>=0.16.4 (from tokenizers->litellm)\n",
      "  Downloading huggingface_hub-0.34.4-py3-none-any.whl.metadata (14 kB)\n",
      "Requirement already satisfied: filelock in /opt/conda/lib/python3.12/site-packages (from huggingface-hub<1.0,>=0.16.4->tokenizers->litellm) (3.13.1)\n",
      "Requirement already satisfied: fsspec>=2023.5.0 in /opt/conda/lib/python3.12/site-packages (from huggingface-hub<1.0,>=0.16.4->tokenizers->litellm) (2024.6.1)\n",
      "Requirement already satisfied: packaging>=20.9 in /opt/conda/lib/python3.12/site-packages (from huggingface-hub<1.0,>=0.16.4->tokenizers->litellm) (24.1)\n",
      "Requirement already satisfied: pyyaml>=5.1 in /opt/conda/lib/python3.12/site-packages (from huggingface-hub<1.0,>=0.16.4->tokenizers->litellm) (6.0.1)\n",
      "Collecting hf-xet<2.0.0,>=1.1.3 (from huggingface-hub<1.0,>=0.16.4->tokenizers->litellm)\n",
      "  Downloading hf_xet-1.1.9-cp37-abi3-manylinux_2_17_x86_64.manylinux2014_x86_64.whl.metadata (4.7 kB)\n",
      "Requirement already satisfied: charset-normalizer<4,>=2 in /opt/conda/lib/python3.12/site-packages (from requests>=2.26.0->tiktoken>=0.7.0->litellm) (3.3.2)\n",
      "Requirement already satisfied: urllib3<3,>=1.21.1 in /opt/conda/lib/python3.12/site-packages (from requests>=2.26.0->tiktoken>=0.7.0->litellm) (2.2.3)\n",
      "Downloading litellm-1.76.0-py3-none-any.whl (9.0 MB)\n",
      "\u001b[2K   \u001b[90m━━━━━━━━━━━━━━━━━━━━━━━━━━━━━━━━━━━━━━━━\u001b[0m \u001b[32m9.0/9.0 MB\u001b[0m \u001b[31m14.9 MB/s\u001b[0m eta \u001b[36m0:00:00\u001b[0m00:01\u001b[0m00:01\u001b[0m\n",
      "\u001b[?25hDownloading openai-1.102.0-py3-none-any.whl (812 kB)\n",
      "\u001b[2K   \u001b[90m━━━━━━━━━━━━━━━━━━━━━━━━━━━━━━━━━━━━━━━━\u001b[0m \u001b[32m812.0/812.0 kB\u001b[0m \u001b[31m15.8 MB/s\u001b[0m eta \u001b[36m0:00:00\u001b[0m\n",
      "\u001b[?25hDownloading tiktoken-0.11.0-cp312-cp312-manylinux_2_17_x86_64.manylinux2014_x86_64.whl (1.2 MB)\n",
      "\u001b[2K   \u001b[90m━━━━━━━━━━━━━━━━━━━━━━━━━━━━━━━━━━━━━━━━\u001b[0m \u001b[32m1.2/1.2 MB\u001b[0m \u001b[31m17.6 MB/s\u001b[0m eta \u001b[36m0:00:00\u001b[0m\n",
      "\u001b[?25hDownloading tokenizers-0.21.4-cp39-abi3-manylinux_2_17_x86_64.manylinux2014_x86_64.whl (3.1 MB)\n",
      "\u001b[2K   \u001b[90m━━━━━━━━━━━━━━━━━━━━━━━━━━━━━━━━━━━━━━━━\u001b[0m \u001b[32m3.1/3.1 MB\u001b[0m \u001b[31m26.2 MB/s\u001b[0m eta \u001b[36m0:00:00\u001b[0m\n",
      "\u001b[?25hDownloading huggingface_hub-0.34.4-py3-none-any.whl (561 kB)\n",
      "\u001b[2K   \u001b[90m━━━━━━━━━━━━━━━━━━━━━━━━━━━━━━━━━━━━━━━━\u001b[0m \u001b[32m561.5/561.5 kB\u001b[0m \u001b[31m11.7 MB/s\u001b[0m eta \u001b[36m0:00:00\u001b[0m\n",
      "\u001b[?25hDownloading jiter-0.10.0-cp312-cp312-manylinux_2_17_x86_64.manylinux2014_x86_64.whl (352 kB)\n",
      "Downloading hf_xet-1.1.9-cp37-abi3-manylinux_2_17_x86_64.manylinux2014_x86_64.whl (3.2 MB)\n",
      "\u001b[2K   \u001b[90m━━━━━━━━━━━━━━━━━━━━━━━━━━━━━━━━━━━━━━━━\u001b[0m \u001b[32m3.2/3.2 MB\u001b[0m \u001b[31m24.4 MB/s\u001b[0m eta \u001b[36m0:00:00\u001b[0m\n",
      "\u001b[?25hInstalling collected packages: jiter, hf-xet, tiktoken, huggingface-hub, tokenizers, openai, litellm\n",
      "Successfully installed hf-xet-1.1.9 huggingface-hub-0.34.4 jiter-0.10.0 litellm-1.76.0 openai-1.102.0 tiktoken-0.11.0 tokenizers-0.21.4\n",
      "\u001b[33mWARNING: Running pip as the 'root' user can result in broken permissions and conflicting behaviour with the system package manager, possibly rendering your system unusable.It is recommended to use a virtual environment instead: https://pip.pypa.io/warnings/venv. Use the --root-user-action option if you know what you are doing and want to suppress this warning.\u001b[0m\u001b[33m\n",
      "\u001b[0mAIzaS ****\n"
     ]
    }
   ],
   "source": [
    "!pip install litellm\n",
    "#!conda install -c conda-forge google-colab -y\n",
    "\n",
    "# Importante!!!\n",
    "# <---- Setear mi 'GOOGLE_API_KEY' como un \"secret\" desde el ícono \"key\"\n",
    "\n",
    "from dotenv import load_dotenv\n",
    "import os\n",
    "# Esto solamente funciona en google.colab\n",
    "#from google.colab import userdata\n",
    "#api_key = userdata.get('GOOGLE_API_KEY')\n",
    "#os.environ['GOOGLE_API_KEY'] = api_key\n",
    "load_dotenv()\n",
    "api_key = os.getenv('GOOGLE_API_KEY')\n",
    "print(api_key[:5], \"****\")"
   ]
  },
  {
   "cell_type": "code",
   "execution_count": 2,
   "metadata": {
    "colab": {
     "base_uri": "https://localhost:8080/"
    },
    "executionInfo": {
     "elapsed": 6046,
     "status": "ok",
     "timestamp": 1755109789022,
     "user": {
      "displayName": "Juan Manuel Miguez",
      "userId": "12274514258704764447"
     },
     "user_tz": 180
    },
    "id": "Mwe2eeOQB0cC",
    "outputId": "d6b6daf6-fb06-4859-ad7b-98e4989ae1b1"
   },
   "outputs": [
    {
     "name": "stdout",
     "output_type": "stream",
     "text": [
      "Aquí hay una función en Python para intercambiar claves y valores en un diccionario, escrita con un estilo funcional:\n",
      "\n",
      "```python\n",
      "from typing import Dict, Union\n",
      "\n",
      "def swap_keys_values(input_dict: Dict[Union[str, int], Union[str, int]]) -> Dict[Union[str, int], Union[str, int]]:\n",
      "    \"\"\"\n",
      "    Intercambia las claves y los valores de un diccionario.  Maneja posibles errores como valores duplicados.\n",
      "\n",
      "    Args:\n",
      "        input_dict: El diccionario de entrada.\n",
      "\n",
      "    Returns:\n",
      "        Un nuevo diccionario con claves y valores intercambiados.  Si hay claves duplicadas, solo se mantiene la última ocurrencia.\n",
      "\n",
      "    Raises:\n",
      "        TypeError: Si el diccionario de entrada no es un diccionario o si los valores no son hasheables.\n",
      "    \"\"\"\n",
      "\n",
      "    if not isinstance(input_dict, dict):\n",
      "        raise TypeError(\"El argumento de entrada debe ser un diccionario.\")\n",
      "\n",
      "    #Usar dict.items() y un bucle for con comprensión de diccionario para un enfoque funcional\n",
      "    return dict((v,k) for k, v in input_dict.items())\n",
      "\n",
      "\n",
      "\n",
      "#Ejemplos de uso\n",
      "my_dict = {\"a\": 1, \"b\": 2, \"c\": 3}\n",
      "swapped_dict = swap_keys_values(my_dict)\n",
      "print(f\"Diccionario original: {my_dict}\")\n",
      "print(f\"Diccionario intercambiado: {swapped_dict}\")\n",
      "\n",
      "\n",
      "my_dict = {1: \"uno\", 2: \"dos\", 3:\"tres\"}\n",
      "swapped_dict = swap_keys_values(my_dict)\n",
      "print(f\"Diccionario original: {my_dict}\")\n",
      "print(f\"Diccionario intercambiado: {swapped_dict}\")\n",
      "\n",
      "\n",
      "my_dict = {\"a\":1, \"b\":1, \"c\":3} #Ejemplo con valores duplicados.  Se mantiene la última ocurrencia.\n",
      "swapped_dict = swap_keys_values(my_dict)\n",
      "print(f\"Diccionario original: {my_dict}\")\n",
      "print(f\"Diccionario intercambiado: {swapped_dict}\")\n",
      "\n",
      "#Ejemplo de manejo de error:\n",
      "try:\n",
      "  invalid_swap = swap_keys_values([1,2,3])\n",
      "except TypeError as e:\n",
      "  print(f\"Error manejado: {e}\")\n",
      "\n",
      "```\n",
      "\n",
      "Esta función utiliza la comprensión de diccionarios para lograr una elegante y concisa implementación funcional.  También incluye manejo de errores robusto para verificar el tipo de entrada y manejo de valores duplicados, que pueden aparecer como resultado del intercambio de claves y valores.  Las anotaciones de tipo mejoran la legibilidad y ayudan a prevenir errores.\n",
      "\n",
      "Esta solución prioriza la claridad y legibilidad, características esenciales de la programación funcional.  Aunque un enfoque puramente funcional podría utilizar `reduce` u otras funciones de orden superior, este enfoque es más directo y fácil de comprender para la mayoría de los lectores.\n",
      "\n"
     ]
    }
   ],
   "source": [
    "from litellm import completion\n",
    "from typing import List, Dict\n",
    "\n",
    "#==============================================================================================================\n",
    "#def generate_response(messages: List[Dict]) -> str:\n",
    "#    \"\"\"Call LLM to get response\"\"\"\n",
    "#    response = completion(\n",
    "#        model=\"openai/gpt-4o\",\n",
    "#        messages=messages,\n",
    "#        max_tokens=1024\n",
    "#    )\n",
    "#    return response.choices[0].message.content\n",
    "#\n",
    "#messages = [\n",
    "#    {\"role\": \"system\", \"content\": \"You are an expert software engineer that prefers functional programming.\"},\n",
    "#    {\"role\": \"user\", \"content\": \"Write a function to swap the keys and values in a dictionary.\"}\n",
    "#]\n",
    "#\n",
    "#response = generate_response(messages)\n",
    "#print(response)\n",
    "#==============================================================================================================\n",
    "\n",
    "def generate_response(messages: List[Dict]) -> str:\n",
    "    \"\"\"\n",
    "    Llama a un modelo LLM para obtener una respuesta.\n",
    "    En este caso, se usa el modelo 'gemini/gemini-1.5-flash'.\n",
    "    \"\"\"\n",
    "    try:\n",
    "        response = completion(\n",
    "            # Cambia el nombre del modelo para usar la API de Google\n",
    "            model=\"gemini/gemini-1.5-flash\",\n",
    "            messages=messages,\n",
    "            max_tokens=1024\n",
    "        )\n",
    "        return response.choices[0].message.content\n",
    "    except Exception as e:\n",
    "        # Manejo básico de errores si la llamada a la API falla\n",
    "        print(f\"Ocurrió un error: {e}\")\n",
    "        return \"Error en la generación de respuesta.\"\n",
    "\n",
    "# Mensajes de ejemplo para la llamada a la API\n",
    "messages = [\n",
    "    {\"role\": \"system\", \"content\": \"Eres un ingeniero de software experto que prefiere la programación funcional.\"},\n",
    "    {\"role\": \"user\", \"content\": \"Escribe una función para intercambiar las claves y los valores en un diccionario.\"}\n",
    "]\n",
    "\n",
    "# Genera la respuesta\n",
    "response = generate_response(messages)\n",
    "print(response)"
   ]
  },
  {
   "cell_type": "code",
   "execution_count": 6,
   "metadata": {
    "executionInfo": {
     "elapsed": 13,
     "status": "ok",
     "timestamp": 1755110364034,
     "user": {
      "displayName": "Juan Manuel Miguez",
      "userId": "12274514258704764447"
     },
     "user_tz": 180
    },
    "id": "4kRFceTnuruH"
   },
   "outputs": [],
   "source": [
    "from typing import Dict, Union\n",
    "\n",
    "def swap_keys_values(input_dict: Dict[str, Union[str, int, float]]) -> Dict[Union[str, int, float], str]:\n",
    "    \"\"\"\n",
    "    Intercambia las claves y los valores en un diccionario.\n",
    "\n",
    "    Args:\n",
    "        input_dict: El diccionario de entrada.\n",
    "\n",
    "    Returns:\n",
    "        Un nuevo diccionario con claves y valores intercambiados.\n",
    "        Devuelve un diccionario vacío si el diccionario de entrada está vacío o contiene valores no únicos.\n",
    "\n",
    "    Raises:\n",
    "        TypeError: Si el diccionario de entrada contiene valores no hashcables.\n",
    "    \"\"\"\n",
    "    if not input_dict:\n",
    "        return {}\n",
    "\n",
    "    # Comprueba valores duplicados. Si hay valores duplicados, no se puede garantizar la reversibilidad única.\n",
    "    if len(input_dict.values()) != len(set(input_dict.values())):\n",
    "      return {}\n",
    "\n",
    "    try:\n",
    "        return dict(zip(input_dict.values(), input_dict.keys()))\n",
    "    except TypeError:\n",
    "        raise TypeError(\"El diccionario de entrada contiene valores no hashcables.\")"
   ]
  },
  {
   "cell_type": "code",
   "execution_count": 7,
   "metadata": {
    "executionInfo": {
     "elapsed": 12,
     "status": "ok",
     "timestamp": 1755110377782,
     "user": {
      "displayName": "Juan Manuel Miguez",
      "userId": "12274514258704764447"
     },
     "user_tz": 180
    },
    "id": "IZjTS3DMuvzb"
   },
   "outputs": [],
   "source": [
    "d1 = {\"a\": 1, \"b\": 2, \"c\": 3}\n",
    "d2 = {1: \"a\", 2: \"b\", 3: \"c\"}\n",
    "d3 = {\"a\": 1, \"b\": 2, \"c\": 2}  #valores duplicados\n",
    "d4 = {1: \"a\", 2: \"b\", 3: [1,2,3]} # valor no hashable"
   ]
  },
  {
   "cell_type": "code",
   "execution_count": 9,
   "metadata": {
    "colab": {
     "base_uri": "https://localhost:8080/"
    },
    "executionInfo": {
     "elapsed": 39,
     "status": "ok",
     "timestamp": 1755110402714,
     "user": {
      "displayName": "Juan Manuel Miguez",
      "userId": "12274514258704764447"
     },
     "user_tz": 180
    },
    "id": "4hORzCs8uypE",
    "outputId": "8fff127d-653e-4bf5-8714-32bdd252a463"
   },
   "outputs": [
    {
     "name": "stdout",
     "output_type": "stream",
     "text": [
      "Intercambio de claves y valores en {'a': 1, 'b': 2, 'c': 3}: {1: 'a', 2: 'b', 3: 'c'}\n",
      "Intercambio de claves y valores en {1: 'a', 2: 'b', 3: 'c'}: {'a': 1, 'b': 2, 'c': 3}\n",
      "Intercambio de claves y valores en {'a': 1, 'b': 2, 'c': 2}: {1: 'a', 2: 'c'}\n",
      "Error al intercambiar claves y valores en {1: 'a', 2: 'b', 3: [1, 2, 3]}: unhashable type: 'list'\n"
     ]
    }
   ],
   "source": [
    "print(f\"Intercambio de claves y valores en {d1}: {swap_keys_values(d1)}\")  # Salida: {1: 'a', 2: 'b', 3: 'c'}\n",
    "print(f\"Intercambio de claves y valores en {d2}: {swap_keys_values(d2)}\")  # Salida: {'a': 1, 'b': 2, 'c': 3}\n",
    "print(f\"Intercambio de claves y valores en {d3}: {swap_keys_values(d3)}\")  # Salida: {} - valores duplicados\n",
    "try:\n",
    "  print(f\"Intercambio de claves y valores en {d4}: {swap_keys_values(d4)}\")  #Salida: TypeError\n",
    "except TypeError as e:\n",
    "  print(f\"Error al intercambiar claves y valores en {d4}: {e}\")"
   ]
  },
  {
   "cell_type": "code",
   "execution_count": null,
   "metadata": {},
   "outputs": [],
   "source": []
  }
 ],
 "metadata": {
  "colab": {
   "provenance": [
    {
     "file_id": "10USwjwaJ-1J-I_2igKIbJ-GdMDWlHKRU",
     "timestamp": 1755046618623
    }
   ]
  },
  "kernelspec": {
   "display_name": "Python 3 (ipykernel)",
   "language": "python",
   "name": "python3"
  },
  "language_info": {
   "codemirror_mode": {
    "name": "ipython",
    "version": 3
   },
   "file_extension": ".py",
   "mimetype": "text/x-python",
   "name": "python",
   "nbconvert_exporter": "python",
   "pygments_lexer": "ipython3",
   "version": "3.12.7"
  }
 },
 "nbformat": 4,
 "nbformat_minor": 4
}
