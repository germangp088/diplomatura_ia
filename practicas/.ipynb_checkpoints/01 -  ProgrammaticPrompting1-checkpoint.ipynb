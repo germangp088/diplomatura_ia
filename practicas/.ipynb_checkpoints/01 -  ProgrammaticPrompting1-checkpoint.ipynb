{
 "cells": [
  {
   "cell_type": "code",
   "execution_count": 14,
   "metadata": {
    "executionInfo": {
     "elapsed": 16021,
     "status": "ok",
     "timestamp": 1755103252211,
     "user": {
      "displayName": "Juan Manuel Miguez",
      "userId": "12274514258704764447"
     },
     "user_tz": 180
    },
    "id": "KEYrzG2vB8Ip"
   },
   "outputs": [
    {
     "name": "stdout",
     "output_type": "stream",
     "text": [
      "Requirement already satisfied: litellm in /opt/conda/lib/python3.12/site-packages (1.76.0)\n",
      "Requirement already satisfied: aiohttp>=3.10 in /opt/conda/lib/python3.12/site-packages (from litellm) (3.10.5)\n",
      "Requirement already satisfied: click in /opt/conda/lib/python3.12/site-packages (from litellm) (8.1.7)\n",
      "Requirement already satisfied: httpx>=0.23.0 in /opt/conda/lib/python3.12/site-packages (from litellm) (0.27.0)\n",
      "Requirement already satisfied: importlib-metadata>=6.8.0 in /opt/conda/lib/python3.12/site-packages (from litellm) (7.0.1)\n",
      "Requirement already satisfied: jinja2<4.0.0,>=3.1.2 in /opt/conda/lib/python3.12/site-packages (from litellm) (3.1.4)\n",
      "Requirement already satisfied: jsonschema<5.0.0,>=4.22.0 in /opt/conda/lib/python3.12/site-packages (from litellm) (4.23.0)\n",
      "Requirement already satisfied: openai>=1.99.5 in /opt/conda/lib/python3.12/site-packages (from litellm) (1.102.0)\n",
      "Requirement already satisfied: pydantic<3.0.0,>=2.5.0 in /opt/conda/lib/python3.12/site-packages (from litellm) (2.8.2)\n",
      "Requirement already satisfied: python-dotenv>=0.2.0 in /opt/conda/lib/python3.12/site-packages (from litellm) (0.21.0)\n",
      "Requirement already satisfied: tiktoken>=0.7.0 in /opt/conda/lib/python3.12/site-packages (from litellm) (0.11.0)\n",
      "Requirement already satisfied: tokenizers in /opt/conda/lib/python3.12/site-packages (from litellm) (0.21.4)\n",
      "Requirement already satisfied: aiohappyeyeballs>=2.3.0 in /opt/conda/lib/python3.12/site-packages (from aiohttp>=3.10->litellm) (2.4.0)\n",
      "Requirement already satisfied: aiosignal>=1.1.2 in /opt/conda/lib/python3.12/site-packages (from aiohttp>=3.10->litellm) (1.2.0)\n",
      "Requirement already satisfied: attrs>=17.3.0 in /opt/conda/lib/python3.12/site-packages (from aiohttp>=3.10->litellm) (23.1.0)\n",
      "Requirement already satisfied: frozenlist>=1.1.1 in /opt/conda/lib/python3.12/site-packages (from aiohttp>=3.10->litellm) (1.4.0)\n",
      "Requirement already satisfied: multidict<7.0,>=4.5 in /opt/conda/lib/python3.12/site-packages (from aiohttp>=3.10->litellm) (6.0.4)\n",
      "Requirement already satisfied: yarl<2.0,>=1.0 in /opt/conda/lib/python3.12/site-packages (from aiohttp>=3.10->litellm) (1.11.0)\n",
      "Requirement already satisfied: anyio in /opt/conda/lib/python3.12/site-packages (from httpx>=0.23.0->litellm) (4.2.0)\n",
      "Requirement already satisfied: certifi in /opt/conda/lib/python3.12/site-packages (from httpx>=0.23.0->litellm) (2025.8.3)\n",
      "Requirement already satisfied: httpcore==1.* in /opt/conda/lib/python3.12/site-packages (from httpx>=0.23.0->litellm) (1.0.2)\n",
      "Requirement already satisfied: idna in /opt/conda/lib/python3.12/site-packages (from httpx>=0.23.0->litellm) (3.7)\n",
      "Requirement already satisfied: sniffio in /opt/conda/lib/python3.12/site-packages (from httpx>=0.23.0->litellm) (1.3.0)\n",
      "Requirement already satisfied: h11<0.15,>=0.13 in /opt/conda/lib/python3.12/site-packages (from httpcore==1.*->httpx>=0.23.0->litellm) (0.14.0)\n",
      "Requirement already satisfied: zipp>=0.5 in /opt/conda/lib/python3.12/site-packages (from importlib-metadata>=6.8.0->litellm) (3.17.0)\n",
      "Requirement already satisfied: MarkupSafe>=2.0 in /opt/conda/lib/python3.12/site-packages (from jinja2<4.0.0,>=3.1.2->litellm) (2.1.3)\n",
      "Requirement already satisfied: jsonschema-specifications>=2023.03.6 in /opt/conda/lib/python3.12/site-packages (from jsonschema<5.0.0,>=4.22.0->litellm) (2023.7.1)\n",
      "Requirement already satisfied: referencing>=0.28.4 in /opt/conda/lib/python3.12/site-packages (from jsonschema<5.0.0,>=4.22.0->litellm) (0.30.2)\n",
      "Requirement already satisfied: rpds-py>=0.7.1 in /opt/conda/lib/python3.12/site-packages (from jsonschema<5.0.0,>=4.22.0->litellm) (0.10.6)\n",
      "Requirement already satisfied: distro<2,>=1.7.0 in /opt/conda/lib/python3.12/site-packages (from openai>=1.99.5->litellm) (1.9.0)\n",
      "Requirement already satisfied: jiter<1,>=0.4.0 in /opt/conda/lib/python3.12/site-packages (from openai>=1.99.5->litellm) (0.10.0)\n",
      "Requirement already satisfied: tqdm>4 in /opt/conda/lib/python3.12/site-packages (from openai>=1.99.5->litellm) (4.66.5)\n",
      "Requirement already satisfied: typing-extensions<5,>=4.11 in /opt/conda/lib/python3.12/site-packages (from openai>=1.99.5->litellm) (4.11.0)\n",
      "Requirement already satisfied: annotated-types>=0.4.0 in /opt/conda/lib/python3.12/site-packages (from pydantic<3.0.0,>=2.5.0->litellm) (0.6.0)\n",
      "Requirement already satisfied: pydantic-core==2.20.1 in /opt/conda/lib/python3.12/site-packages (from pydantic<3.0.0,>=2.5.0->litellm) (2.20.1)\n",
      "Requirement already satisfied: regex>=2022.1.18 in /opt/conda/lib/python3.12/site-packages (from tiktoken>=0.7.0->litellm) (2024.9.11)\n",
      "Requirement already satisfied: requests>=2.26.0 in /opt/conda/lib/python3.12/site-packages (from tiktoken>=0.7.0->litellm) (2.32.3)\n",
      "Requirement already satisfied: huggingface-hub<1.0,>=0.16.4 in /opt/conda/lib/python3.12/site-packages (from tokenizers->litellm) (0.34.4)\n",
      "Requirement already satisfied: filelock in /opt/conda/lib/python3.12/site-packages (from huggingface-hub<1.0,>=0.16.4->tokenizers->litellm) (3.13.1)\n",
      "Requirement already satisfied: fsspec>=2023.5.0 in /opt/conda/lib/python3.12/site-packages (from huggingface-hub<1.0,>=0.16.4->tokenizers->litellm) (2024.6.1)\n",
      "Requirement already satisfied: packaging>=20.9 in /opt/conda/lib/python3.12/site-packages (from huggingface-hub<1.0,>=0.16.4->tokenizers->litellm) (24.1)\n",
      "Requirement already satisfied: pyyaml>=5.1 in /opt/conda/lib/python3.12/site-packages (from huggingface-hub<1.0,>=0.16.4->tokenizers->litellm) (6.0.1)\n",
      "Requirement already satisfied: hf-xet<2.0.0,>=1.1.3 in /opt/conda/lib/python3.12/site-packages (from huggingface-hub<1.0,>=0.16.4->tokenizers->litellm) (1.1.9)\n",
      "Requirement already satisfied: charset-normalizer<4,>=2 in /opt/conda/lib/python3.12/site-packages (from requests>=2.26.0->tiktoken>=0.7.0->litellm) (3.3.2)\n",
      "Requirement already satisfied: urllib3<3,>=1.21.1 in /opt/conda/lib/python3.12/site-packages (from requests>=2.26.0->tiktoken>=0.7.0->litellm) (2.2.3)\n",
      "\u001b[33mWARNING: Running pip as the 'root' user can result in broken permissions and conflicting behaviour with the system package manager, possibly rendering your system unusable.It is recommended to use a virtual environment instead: https://pip.pypa.io/warnings/venv. Use the --root-user-action option if you know what you are doing and want to suppress this warning.\u001b[0m\u001b[33m\n",
      "\u001b[0m\u001b[31mERROR: Could not find a version that satisfies the requirement imp (from versions: none)\u001b[0m\u001b[31m\n",
      "\u001b[0m\u001b[31mERROR: No matching distribution found for imp\u001b[0m\u001b[31m\n",
      "\u001b[0mChannels:\n",
      " - conda-forge\n",
      " - defaults\n",
      "Platform: linux-64\n",
      "Collecting package metadata (repodata.json): done\n",
      "Solving environment: - ^C\n"
     ]
    },
    {
     "ename": "ModuleNotFoundError",
     "evalue": "No module named 'imp'",
     "output_type": "error",
     "traceback": [
      "\u001b[0;31m---------------------------------------------------------------------------\u001b[0m",
      "\u001b[0;31mModuleNotFoundError\u001b[0m                       Traceback (most recent call last)",
      "Cell \u001b[0;32mIn[14], line 9\u001b[0m\n\u001b[1;32m      5\u001b[0m \u001b[38;5;66;03m# Importante!!!\u001b[39;00m\n\u001b[1;32m      6\u001b[0m \u001b[38;5;66;03m# <---- Setear mi 'GOOGLE_API_KEY' como un \"secret\" desde el ícono \"key\"\u001b[39;00m\n\u001b[1;32m      8\u001b[0m \u001b[38;5;28;01mimport\u001b[39;00m \u001b[38;5;21;01mos\u001b[39;00m\n\u001b[0;32m----> 9\u001b[0m \u001b[38;5;28;01mfrom\u001b[39;00m \u001b[38;5;21;01mgoogle\u001b[39;00m\u001b[38;5;21;01m.\u001b[39;00m\u001b[38;5;21;01mcolab\u001b[39;00m \u001b[38;5;28;01mimport\u001b[39;00m userdata\n\u001b[1;32m     10\u001b[0m api_key \u001b[38;5;241m=\u001b[39m userdata\u001b[38;5;241m.\u001b[39mget(\u001b[38;5;124m'\u001b[39m\u001b[38;5;124mGOOGLE_API_KEY\u001b[39m\u001b[38;5;124m'\u001b[39m)\n\u001b[1;32m     11\u001b[0m os\u001b[38;5;241m.\u001b[39menviron[\u001b[38;5;124m'\u001b[39m\u001b[38;5;124mGOOGLE_API_KEY\u001b[39m\u001b[38;5;124m'\u001b[39m] \u001b[38;5;241m=\u001b[39m api_key\n",
      "File \u001b[0;32m/opt/conda/lib/python3.12/site-packages/google/colab/__init__.py:20\u001b[0m\n\u001b[1;32m     17\u001b[0m \u001b[38;5;28;01mfrom\u001b[39;00m \u001b[38;5;21;01m__future__\u001b[39;00m \u001b[38;5;28;01mimport\u001b[39;00m division \u001b[38;5;28;01mas\u001b[39;00m _\n\u001b[1;32m     18\u001b[0m \u001b[38;5;28;01mfrom\u001b[39;00m \u001b[38;5;21;01m__future__\u001b[39;00m \u001b[38;5;28;01mimport\u001b[39;00m print_function \u001b[38;5;28;01mas\u001b[39;00m _\n\u001b[0;32m---> 20\u001b[0m \u001b[38;5;28;01mfrom\u001b[39;00m \u001b[38;5;21;01mgoogle\u001b[39;00m\u001b[38;5;21;01m.\u001b[39;00m\u001b[38;5;21;01mcolab\u001b[39;00m \u001b[38;5;28;01mimport\u001b[39;00m _import_hooks\n\u001b[1;32m     21\u001b[0m \u001b[38;5;28;01mfrom\u001b[39;00m \u001b[38;5;21;01mgoogle\u001b[39;00m\u001b[38;5;21;01m.\u001b[39;00m\u001b[38;5;21;01mcolab\u001b[39;00m \u001b[38;5;28;01mimport\u001b[39;00m _installation_commands\n\u001b[1;32m     22\u001b[0m \u001b[38;5;28;01mfrom\u001b[39;00m \u001b[38;5;21;01mgoogle\u001b[39;00m\u001b[38;5;21;01m.\u001b[39;00m\u001b[38;5;21;01mcolab\u001b[39;00m \u001b[38;5;28;01mimport\u001b[39;00m _shell_customizations\n",
      "File \u001b[0;32m/opt/conda/lib/python3.12/site-packages/google/colab/_import_hooks/__init__.py:16\u001b[0m\n\u001b[1;32m      1\u001b[0m \u001b[38;5;66;03m# Copyright 2018 Google Inc.\u001b[39;00m\n\u001b[1;32m      2\u001b[0m \u001b[38;5;66;03m#\u001b[39;00m\n\u001b[1;32m      3\u001b[0m \u001b[38;5;66;03m# Licensed under the Apache License, Version 2.0 (the \"License\");\u001b[39;00m\n\u001b[0;32m   (...)\u001b[0m\n\u001b[1;32m     12\u001b[0m \u001b[38;5;66;03m# See the License for the specific language govestylerning permissions and\u001b[39;00m\n\u001b[1;32m     13\u001b[0m \u001b[38;5;66;03m# limitations under the License.\u001b[39;00m\n\u001b[1;32m     14\u001b[0m \u001b[38;5;124;03m\"\"\"Colab import customizations to the IPython runtime.\"\"\"\u001b[39;00m\n\u001b[0;32m---> 16\u001b[0m \u001b[38;5;28;01mfrom\u001b[39;00m \u001b[38;5;21;01mgoogle\u001b[39;00m\u001b[38;5;21;01m.\u001b[39;00m\u001b[38;5;21;01mcolab\u001b[39;00m\u001b[38;5;21;01m.\u001b[39;00m\u001b[38;5;21;01m_import_hooks\u001b[39;00m \u001b[38;5;28;01mimport\u001b[39;00m _altair\n\u001b[1;32m     17\u001b[0m \u001b[38;5;28;01mfrom\u001b[39;00m \u001b[38;5;21;01mgoogle\u001b[39;00m\u001b[38;5;21;01m.\u001b[39;00m\u001b[38;5;21;01mcolab\u001b[39;00m\u001b[38;5;21;01m.\u001b[39;00m\u001b[38;5;21;01m_import_hooks\u001b[39;00m \u001b[38;5;28;01mimport\u001b[39;00m _cv2\n\u001b[1;32m     20\u001b[0m \u001b[38;5;28;01mdef\u001b[39;00m \u001b[38;5;21m_register_hooks\u001b[39m():\n",
      "File \u001b[0;32m/opt/conda/lib/python3.12/site-packages/google/colab/_import_hooks/_altair.py:16\u001b[0m\n\u001b[1;32m      1\u001b[0m \u001b[38;5;66;03m# Copyright 2018 Google Inc. All rights reserved.\u001b[39;00m\n\u001b[1;32m      2\u001b[0m \u001b[38;5;66;03m#\u001b[39;00m\n\u001b[1;32m      3\u001b[0m \u001b[38;5;66;03m# Licensed under the Apache License, Version 2.0 (the \"License\");\u001b[39;00m\n\u001b[0;32m   (...)\u001b[0m\n\u001b[1;32m     12\u001b[0m \u001b[38;5;66;03m# See the License for the specific language governing permissions and\u001b[39;00m\n\u001b[1;32m     13\u001b[0m \u001b[38;5;66;03m# limitations under the License.\u001b[39;00m\n\u001b[1;32m     14\u001b[0m \u001b[38;5;124;03m\"\"\"Import hook for ensuring that Altair's Colab renderer is registered.\"\"\"\u001b[39;00m\n\u001b[0;32m---> 16\u001b[0m \u001b[38;5;28;01mimport\u001b[39;00m \u001b[38;5;21;01mimp\u001b[39;00m\n\u001b[1;32m     17\u001b[0m \u001b[38;5;28;01mimport\u001b[39;00m \u001b[38;5;21;01mlogging\u001b[39;00m\n\u001b[1;32m     18\u001b[0m \u001b[38;5;28;01mimport\u001b[39;00m \u001b[38;5;21;01mos\u001b[39;00m\n",
      "\u001b[0;31mModuleNotFoundError\u001b[0m: No module named 'imp'"
     ]
    }
   ],
   "source": [
    "!pip install litellm\n",
    "!conda install -c conda-forge google-colab imp -y\n",
    "\n",
    "# Importante!!!\n",
    "# <---- Setear mi 'GOOGLE_API_KEY' como un \"secret\" desde el ícono \"key\"\n",
    "\n",
    "import os\n",
    "from google.colab import userdata\n",
    "api_key = userdata.get('GOOGLE_API_KEY')\n",
    "os.environ['GOOGLE_API_KEY'] = api_key"
   ]
  },
  {
   "cell_type": "code",
   "execution_count": null,
   "metadata": {
    "colab": {
     "base_uri": "https://localhost:8080/"
    },
    "executionInfo": {
     "elapsed": 6046,
     "status": "ok",
     "timestamp": 1755109789022,
     "user": {
      "displayName": "Juan Manuel Miguez",
      "userId": "12274514258704764447"
     },
     "user_tz": 180
    },
    "id": "Mwe2eeOQB0cC",
    "outputId": "d6b6daf6-fb06-4859-ad7b-98e4989ae1b1"
   },
   "outputs": [],
   "source": [
    "from litellm import completion\n",
    "from typing import List, Dict\n",
    "\n",
    "#==============================================================================================================\n",
    "#def generate_response(messages: List[Dict]) -> str:\n",
    "#    \"\"\"Call LLM to get response\"\"\"\n",
    "#    response = completion(\n",
    "#        model=\"openai/gpt-4o\",\n",
    "#        messages=messages,\n",
    "#        max_tokens=1024\n",
    "#    )\n",
    "#    return response.choices[0].message.content\n",
    "#\n",
    "#messages = [\n",
    "#    {\"role\": \"system\", \"content\": \"You are an expert software engineer that prefers functional programming.\"},\n",
    "#    {\"role\": \"user\", \"content\": \"Write a function to swap the keys and values in a dictionary.\"}\n",
    "#]\n",
    "#\n",
    "#response = generate_response(messages)\n",
    "#print(response)\n",
    "#==============================================================================================================\n",
    "\n",
    "def generate_response(messages: List[Dict]) -> str:\n",
    "    \"\"\"\n",
    "    Llama a un modelo LLM para obtener una respuesta.\n",
    "    En este caso, se usa el modelo 'gemini/gemini-1.5-flash'.\n",
    "    \"\"\"\n",
    "    try:\n",
    "        response = completion(\n",
    "            # Cambia el nombre del modelo para usar la API de Google\n",
    "            model=\"gemini/gemini-1.5-flash\",\n",
    "            messages=messages,\n",
    "            max_tokens=1024\n",
    "        )\n",
    "        return response.choices[0].message.content\n",
    "    except Exception as e:\n",
    "        # Manejo básico de errores si la llamada a la API falla\n",
    "        print(f\"Ocurrió un error: {e}\")\n",
    "        return \"Error en la generación de respuesta.\"\n",
    "\n",
    "# Mensajes de ejemplo para la llamada a la API\n",
    "messages = [\n",
    "    {\"role\": \"system\", \"content\": \"Eres un ingeniero de software experto que prefiere la programación funcional.\"},\n",
    "    {\"role\": \"user\", \"content\": \"Escribe una función para intercambiar las claves y los valores en un diccionario.\"}\n",
    "]\n",
    "\n",
    "# Genera la respuesta\n",
    "response = generate_response(messages)\n",
    "print(response)"
   ]
  },
  {
   "cell_type": "code",
   "execution_count": null,
   "metadata": {
    "executionInfo": {
     "elapsed": 13,
     "status": "ok",
     "timestamp": 1755110364034,
     "user": {
      "displayName": "Juan Manuel Miguez",
      "userId": "12274514258704764447"
     },
     "user_tz": 180
    },
    "id": "4kRFceTnuruH"
   },
   "outputs": [],
   "source": [
    "from typing import Dict, Union\n",
    "\n",
    "def swap_keys_values(input_dict: Dict[str, Union[str, int, float]]) -> Dict[Union[str, int, float], str]:\n",
    "    \"\"\"\n",
    "    Intercambia las claves y los valores en un diccionario.\n",
    "\n",
    "    Args:\n",
    "        input_dict: El diccionario de entrada.\n",
    "\n",
    "    Returns:\n",
    "        Un nuevo diccionario con claves y valores intercambiados.\n",
    "        Devuelve un diccionario vacío si el diccionario de entrada está vacío o contiene valores no únicos.\n",
    "\n",
    "    Raises:\n",
    "        TypeError: Si el diccionario de entrada contiene valores no hashcables.\n",
    "    \"\"\"\n",
    "    if not input_dict:\n",
    "        return {}\n",
    "\n",
    "    # Comprueba valores duplicados. Si hay valores duplicados, no se puede garantizar la reversibilidad única.\n",
    "    if len(input_dict.values()) != len(set(input_dict.values())):\n",
    "      return {}\n",
    "\n",
    "    try:\n",
    "        return dict(zip(input_dict.values(), input_dict.keys()))\n",
    "    except TypeError:\n",
    "        raise TypeError(\"El diccionario de entrada contiene valores no hashcables.\")"
   ]
  },
  {
   "cell_type": "code",
   "execution_count": 2,
   "metadata": {
    "executionInfo": {
     "elapsed": 12,
     "status": "ok",
     "timestamp": 1755110377782,
     "user": {
      "displayName": "Juan Manuel Miguez",
      "userId": "12274514258704764447"
     },
     "user_tz": 180
    },
    "id": "IZjTS3DMuvzb"
   },
   "outputs": [],
   "source": [
    "d1 = {\"a\": 1, \"b\": 2, \"c\": 3}\n",
    "d2 = {1: \"a\", 2: \"b\", 3: \"c\"}\n",
    "d3 = {\"a\": 1, \"b\": 2, \"c\": 2}  #valores duplicados\n",
    "d4 = {1: \"a\", 2: \"b\", 3: [1,2,3]} # valor no hashable"
   ]
  },
  {
   "cell_type": "code",
   "execution_count": 3,
   "metadata": {
    "colab": {
     "base_uri": "https://localhost:8080/"
    },
    "executionInfo": {
     "elapsed": 39,
     "status": "ok",
     "timestamp": 1755110402714,
     "user": {
      "displayName": "Juan Manuel Miguez",
      "userId": "12274514258704764447"
     },
     "user_tz": 180
    },
    "id": "4hORzCs8uypE",
    "outputId": "8fff127d-653e-4bf5-8714-32bdd252a463"
   },
   "outputs": [
    {
     "ename": "NameError",
     "evalue": "name 'swap_keys_values' is not defined",
     "output_type": "error",
     "traceback": [
      "\u001b[0;31m---------------------------------------------------------------------------\u001b[0m",
      "\u001b[0;31mNameError\u001b[0m                                 Traceback (most recent call last)",
      "Cell \u001b[0;32mIn[3], line 1\u001b[0m\n\u001b[0;32m----> 1\u001b[0m \u001b[38;5;28mprint\u001b[39m(\u001b[38;5;124mf\u001b[39m\u001b[38;5;124m\"\u001b[39m\u001b[38;5;124mIntercambio de claves y valores en \u001b[39m\u001b[38;5;132;01m{\u001b[39;00md1\u001b[38;5;132;01m}\u001b[39;00m\u001b[38;5;124m: \u001b[39m\u001b[38;5;132;01m{\u001b[39;00mswap_keys_values(d1)\u001b[38;5;132;01m}\u001b[39;00m\u001b[38;5;124m\"\u001b[39m)  \u001b[38;5;66;03m# Salida: {1: 'a', 2: 'b', 3: 'c'}\u001b[39;00m\n\u001b[1;32m      2\u001b[0m \u001b[38;5;28mprint\u001b[39m(\u001b[38;5;124mf\u001b[39m\u001b[38;5;124m\"\u001b[39m\u001b[38;5;124mIntercambio de claves y valores en \u001b[39m\u001b[38;5;132;01m{\u001b[39;00md2\u001b[38;5;132;01m}\u001b[39;00m\u001b[38;5;124m: \u001b[39m\u001b[38;5;132;01m{\u001b[39;00mswap_keys_values(d2)\u001b[38;5;132;01m}\u001b[39;00m\u001b[38;5;124m\"\u001b[39m)  \u001b[38;5;66;03m# Salida: {'a': 1, 'b': 2, 'c': 3}\u001b[39;00m\n\u001b[1;32m      3\u001b[0m \u001b[38;5;28mprint\u001b[39m(\u001b[38;5;124mf\u001b[39m\u001b[38;5;124m\"\u001b[39m\u001b[38;5;124mIntercambio de claves y valores en \u001b[39m\u001b[38;5;132;01m{\u001b[39;00md3\u001b[38;5;132;01m}\u001b[39;00m\u001b[38;5;124m: \u001b[39m\u001b[38;5;132;01m{\u001b[39;00mswap_keys_values(d3)\u001b[38;5;132;01m}\u001b[39;00m\u001b[38;5;124m\"\u001b[39m)  \u001b[38;5;66;03m# Salida: {} - valores duplicados\u001b[39;00m\n",
      "\u001b[0;31mNameError\u001b[0m: name 'swap_keys_values' is not defined"
     ]
    }
   ],
   "source": [
    "print(f\"Intercambio de claves y valores en {d1}: {swap_keys_values(d1)}\")  # Salida: {1: 'a', 2: 'b', 3: 'c'}\n",
    "print(f\"Intercambio de claves y valores en {d2}: {swap_keys_values(d2)}\")  # Salida: {'a': 1, 'b': 2, 'c': 3}\n",
    "print(f\"Intercambio de claves y valores en {d3}: {swap_keys_values(d3)}\")  # Salida: {} - valores duplicados\n",
    "try:\n",
    "  print(f\"Intercambio de claves y valores en {d4}: {swap_keys_values(d4)}\")  #Salida: TypeError\n",
    "except TypeError as e:\n",
    "  print(f\"Error al intercambiar claves y valores en {d4}: {e}\")"
   ]
  },
  {
   "cell_type": "code",
   "execution_count": null,
   "metadata": {},
   "outputs": [],
   "source": []
  }
 ],
 "metadata": {
  "colab": {
   "provenance": [
    {
     "file_id": "10USwjwaJ-1J-I_2igKIbJ-GdMDWlHKRU",
     "timestamp": 1755046618623
    }
   ]
  },
  "kernelspec": {
   "display_name": "Python 3 (ipykernel)",
   "language": "python",
   "name": "python3"
  },
  "language_info": {
   "codemirror_mode": {
    "name": "ipython",
    "version": 3
   },
   "file_extension": ".py",
   "mimetype": "text/x-python",
   "name": "python",
   "nbconvert_exporter": "python",
   "pygments_lexer": "ipython3",
   "version": "3.12.7"
  }
 },
 "nbformat": 4,
 "nbformat_minor": 4
}
