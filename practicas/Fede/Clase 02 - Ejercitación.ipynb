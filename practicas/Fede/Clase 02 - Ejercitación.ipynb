{
 "cells": [
  {
   "cell_type": "markdown",
   "metadata": {
    "id": "0vKndY4yTeGX"
   },
   "source": [
    "### Ejercicios Básicos para Python - Clase 2"
   ]
  },
  {
   "cell_type": "markdown",
   "metadata": {
    "id": "Y4s6B8U5TkPj"
   },
   "source": [
    "Problema 1. Dado dos numeros 30 y 13587, calcular la multiplicación y la suma de ambos."
   ]
  },
  {
   "cell_type": "code",
   "execution_count": 1,
   "metadata": {
    "id": "t3IzMhyISwFV"
   },
   "outputs": [
    {
     "name": "stdout",
     "output_type": "stream",
     "text": [
      "461610\n",
      "13617\n"
     ]
    }
   ],
   "source": [
    "print(30*15387)\n",
    "print(30+13587)"
   ]
  },
  {
   "cell_type": "markdown",
   "metadata": {
    "id": "n-RqRvz4Trc4"
   },
   "source": [
    "Problema 2. Calcula la resta y la divisón entre 7654387  y 7891.\n"
   ]
  },
  {
   "cell_type": "code",
   "execution_count": 3,
   "metadata": {
    "id": "qj74vl8JT96b"
   },
   "outputs": [
    {
     "name": "stdout",
     "output_type": "stream",
     "text": [
      "7646496\n",
      "970.0148270181219\n"
     ]
    }
   ],
   "source": [
    "print(7654387-7891)\n",
    "print(7654387/7891)"
   ]
  },
  {
   "cell_type": "markdown",
   "metadata": {
    "id": "jxjr0nzVUDZh"
   },
   "source": [
    "Problema 3. Dado los numeros del 1 al 10, calcular la suma de la lista de numeros entre sí. Máximo 5 lineas para resolverse."
   ]
  },
  {
   "cell_type": "code",
   "execution_count": 4,
   "metadata": {
    "id": "iWEPy29iUUQ6"
   },
   "outputs": [
    {
     "name": "stdout",
     "output_type": "stream",
     "text": [
      "La suma de los números del 1 al 10 es: 55\n"
     ]
    }
   ],
   "source": [
    "numeros = list(range(1, 11))\n",
    "suma_total = sum(numeros)\n",
    "print(\"La suma de los números del 1 al 10 es:\", suma_total)"
   ]
  },
  {
   "cell_type": "markdown",
   "metadata": {
    "id": "Sw3Bito8UbVO"
   },
   "source": [
    "Problema 4. Imprime los caracteres de la palabra: \"Australopitecus\" que se encuentran en posiciones impares."
   ]
  },
  {
   "cell_type": "code",
   "execution_count": 7,
   "metadata": {
    "id": "iTueR-4KUj0C"
   },
   "outputs": [
    {
     "name": "stdout",
     "output_type": "stream",
     "text": [
      "utaoieu\n"
     ]
    }
   ],
   "source": [
    "palabra = \"Australopitecus\"\n",
    "caracteres_impares = palabra[1::2]\n",
    "print(caracteres_impares)"
   ]
  },
  {
   "cell_type": "markdown",
   "metadata": {
    "id": "UxhBlRGcUkPB"
   },
   "source": [
    "Problema 5. Dada las listas de numeros: [10, 20, 30, 40, 10] y [75, 65, 35, 75, 30] realizar la suma entre ambas correspondiendo a cada valor en cada posición."
   ]
  },
  {
   "cell_type": "code",
   "execution_count": 8,
   "metadata": {
    "id": "jcumxzVoU26l"
   },
   "outputs": [
    {
     "name": "stdout",
     "output_type": "stream",
     "text": [
      "[85, 85, 65, 115, 40]\n"
     ]
    }
   ],
   "source": [
    "lista1 = [10, 20, 30, 40, 10]\n",
    "lista2 = [75, 65, 35, 75, 30]\n",
    "suma_posicional = [a + b for a, b in zip(lista1, lista2)]\n",
    "print(suma_posicional)\n"
   ]
  },
  {
   "cell_type": "markdown",
   "metadata": {
    "id": "Ny_SGieEU7Du"
   },
   "source": [
    "Problema 6. Dada la lista de numeros [75, 65, 35, 75, 30, 78, 5, 48, 33, 12, 80, 1234, 75135, 11247, 455722, 33547, 118722348] obtener los valores que sean divisibles por 3."
   ]
  },
  {
   "cell_type": "code",
   "execution_count": 9,
   "metadata": {
    "id": "t7yeTwSFVKOt"
   },
   "outputs": [
    {
     "name": "stdout",
     "output_type": "stream",
     "text": [
      "[75, 75, 30, 78, 48, 33, 12, 75135, 11247, 118722348]\n"
     ]
    }
   ],
   "source": [
    "numeros = [75, 65, 35, 75, 30, 78, 5, 48, 33, 12, 80, 1234, 75135, 11247, 455722, 33547, 118722348]\n",
    "divisibles_por_3 = [n for n in numeros if n % 3 == 0]\n",
    "print(divisibles_por_3)\n"
   ]
  },
  {
   "cell_type": "markdown",
   "metadata": {
    "id": "FL6AhViUVKyU"
   },
   "source": [
    "Problema 7. Dada la lista de numeros: [75, 65, 35, 75, 30] imprimirla en reversa."
   ]
  },
  {
   "cell_type": "code",
   "execution_count": 10,
   "metadata": {
    "id": "7tsIaEavVa7B"
   },
   "outputs": [
    {
     "name": "stdout",
     "output_type": "stream",
     "text": [
      "[30, 75, 35, 65, 75]\n"
     ]
    }
   ],
   "source": [
    "numeros = [75, 65, 35, 75, 30]\n",
    "reversa = numeros[::-1]\n",
    "print(reversa)\n"
   ]
  },
  {
   "cell_type": "markdown",
   "metadata": {
    "id": "uNVS5mbcVbK7"
   },
   "source": [
    "Problema 8. Imprimir la tabla de multiplicación del 12."
   ]
  },
  {
   "cell_type": "code",
   "execution_count": 12,
   "metadata": {
    "id": "n1ZNl9vxVoPF"
   },
   "outputs": [
    {
     "name": "stdout",
     "output_type": "stream",
     "text": [
      "12 x 1 = 12\n",
      "12 x 2 = 24\n",
      "12 x 3 = 36\n",
      "12 x 4 = 48\n",
      "12 x 5 = 60\n",
      "12 x 6 = 72\n",
      "12 x 7 = 84\n",
      "12 x 8 = 96\n",
      "12 x 9 = 108\n",
      "12 x 10 = 120\n"
     ]
    }
   ],
   "source": [
    "for i in range(1, 11):\n",
    "    print(f\"12 x {i} = {12 * i}\")"
   ]
  },
  {
   "cell_type": "markdown",
   "metadata": {
    "id": "WnM78T9PVogt"
   },
   "source": [
    "Problema 9. Imprimir el siguiente patrón:\n",
    "\n",
    "\n",
    "\n",
    "```\n",
    "*\n",
    "* *\n",
    "* * *\n",
    "* * * *\n",
    "* * * * *\n",
    "* * * *\n",
    "* * *\n",
    "* *\n",
    "*\n",
    "```\n",
    "\n"
   ]
  },
  {
   "cell_type": "code",
   "execution_count": 13,
   "metadata": {
    "id": "2_jaSMqYWASO"
   },
   "outputs": [
    {
     "name": "stdout",
     "output_type": "stream",
     "text": [
      "* \n",
      "* * \n",
      "* * * \n",
      "* * * * \n",
      "* * * * * \n",
      "* * * * \n",
      "* * * \n",
      "* * \n",
      "* \n"
     ]
    }
   ],
   "source": [
    "# Parte ascendente\n",
    "for i in range(1, 6):\n",
    "    print(\"* \" * i)\n",
    "\n",
    "# Parte descendente\n",
    "for i in range(4, 0, -1):\n",
    "    print(\"* \" * i)\n"
   ]
  },
  {
   "cell_type": "markdown",
   "metadata": {
    "id": "OfXxkIdvWBb3"
   },
   "source": [
    "Problema 10. Imprimir la serie de Fibonacci hasta 11 terminos."
   ]
  },
  {
   "cell_type": "code",
   "execution_count": 14,
   "metadata": {
    "id": "opd0qXGtWNJt"
   },
   "outputs": [
    {
     "name": "stdout",
     "output_type": "stream",
     "text": [
      "0 1 1 2 3 5 8 13 21 34 55 "
     ]
    }
   ],
   "source": [
    "a, b = 0, 1\n",
    "for _ in range(11):\n",
    "    print(a, end=\" \")\n",
    "    a, b = b, a + b"
   ]
  },
  {
   "cell_type": "code",
   "execution_count": null,
   "metadata": {},
   "outputs": [],
   "source": []
  }
 ],
 "metadata": {
  "accelerator": "TPU",
  "colab": {
   "gpuType": "V28",
   "provenance": []
  },
  "kernelspec": {
   "display_name": "Python 3 (ipykernel)",
   "language": "python",
   "name": "python3"
  },
  "language_info": {
   "codemirror_mode": {
    "name": "ipython",
    "version": 3
   },
   "file_extension": ".py",
   "mimetype": "text/x-python",
   "name": "python",
   "nbconvert_exporter": "python",
   "pygments_lexer": "ipython3",
   "version": "3.12.7"
  }
 },
 "nbformat": 4,
 "nbformat_minor": 4
}
