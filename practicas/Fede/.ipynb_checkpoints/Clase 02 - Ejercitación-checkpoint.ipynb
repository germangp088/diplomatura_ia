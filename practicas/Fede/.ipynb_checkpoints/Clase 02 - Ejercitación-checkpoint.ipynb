{
 "cells": [
  {
   "cell_type": "markdown",
   "metadata": {
    "id": "0vKndY4yTeGX"
   },
   "source": [
    "### Ejercicios Básicos para Python - Clase 2"
   ]
  },
  {
   "cell_type": "markdown",
   "metadata": {
    "id": "Y4s6B8U5TkPj"
   },
   "source": [
    "Problema 1. Dado dos numeros 30 y 13587, calcular la multiplicación y la suma de ambos."
   ]
  },
  {
   "cell_type": "code",
   "execution_count": null,
   "metadata": {
    "id": "t3IzMhyISwFV"
   },
   "outputs": [],
   "source": []
  },
  {
   "cell_type": "markdown",
   "metadata": {
    "id": "n-RqRvz4Trc4"
   },
   "source": [
    "Problema 2. Calcula la resta y la divisón entre 7654387  y 7891.\n"
   ]
  },
  {
   "cell_type": "code",
   "execution_count": null,
   "metadata": {
    "id": "qj74vl8JT96b"
   },
   "outputs": [],
   "source": []
  },
  {
   "cell_type": "markdown",
   "metadata": {
    "id": "jxjr0nzVUDZh"
   },
   "source": [
    "Problema 3. Dado los numeros del 1 al 10, calcular la suma de la lista de numeros entre sí. Máximo 5 lineas para resolverse."
   ]
  },
  {
   "cell_type": "code",
   "execution_count": null,
   "metadata": {
    "id": "iWEPy29iUUQ6"
   },
   "outputs": [],
   "source": []
  },
  {
   "cell_type": "markdown",
   "metadata": {
    "id": "Sw3Bito8UbVO"
   },
   "source": [
    "Problema 4. Imprime los caracteres de la palabra: \"Australopitecus\" que se encuentran en posiciones impares."
   ]
  },
  {
   "cell_type": "code",
   "execution_count": null,
   "metadata": {
    "id": "iTueR-4KUj0C"
   },
   "outputs": [],
   "source": []
  },
  {
   "cell_type": "markdown",
   "metadata": {
    "id": "UxhBlRGcUkPB"
   },
   "source": [
    "Problema 5. Dada las listas de numeros: [10, 20, 30, 40, 10] y [75, 65, 35, 75, 30] realizar la suma entre ambas correspondiendo a cada valor en cada posición."
   ]
  },
  {
   "cell_type": "code",
   "execution_count": null,
   "metadata": {
    "id": "jcumxzVoU26l"
   },
   "outputs": [],
   "source": []
  },
  {
   "cell_type": "markdown",
   "metadata": {
    "id": "Ny_SGieEU7Du"
   },
   "source": [
    "Problema 6. Dada la lista de numeros [75, 65, 35, 75, 30, 78, 5, 48, 33, 12, 80, 1234, 75135, 11247, 455722, 33547, 118722348] obtener los valores que sean divisibles por 3."
   ]
  },
  {
   "cell_type": "code",
   "execution_count": null,
   "metadata": {
    "id": "t7yeTwSFVKOt"
   },
   "outputs": [],
   "source": []
  },
  {
   "cell_type": "markdown",
   "metadata": {
    "id": "FL6AhViUVKyU"
   },
   "source": [
    "Problema 7. Dada la lista de numeros: [75, 65, 35, 75, 30] imprimirla en reversa."
   ]
  },
  {
   "cell_type": "code",
   "execution_count": null,
   "metadata": {
    "id": "7tsIaEavVa7B"
   },
   "outputs": [],
   "source": []
  },
  {
   "cell_type": "markdown",
   "metadata": {
    "id": "uNVS5mbcVbK7"
   },
   "source": [
    "Problema 8. Imprimir la tabla de multiplicación del 12."
   ]
  },
  {
   "cell_type": "code",
   "execution_count": null,
   "metadata": {
    "id": "n1ZNl9vxVoPF"
   },
   "outputs": [],
   "source": []
  },
  {
   "cell_type": "markdown",
   "metadata": {
    "id": "WnM78T9PVogt"
   },
   "source": [
    "Problema 9. Imprimir el siguiente patrón:\n",
    "\n",
    "\n",
    "\n",
    "```\n",
    "*\n",
    "* *\n",
    "* * *\n",
    "* * * *\n",
    "* * * * *\n",
    "* * * *\n",
    "* * *\n",
    "* *\n",
    "*\n",
    "```\n",
    "\n"
   ]
  },
  {
   "cell_type": "code",
   "execution_count": null,
   "metadata": {
    "id": "2_jaSMqYWASO"
   },
   "outputs": [],
   "source": []
  },
  {
   "cell_type": "markdown",
   "metadata": {
    "id": "OfXxkIdvWBb3"
   },
   "source": [
    "Problema 10. Imprimir la serie de Fibonacci hasta 11 terminos."
   ]
  },
  {
   "cell_type": "code",
   "execution_count": null,
   "metadata": {
    "id": "opd0qXGtWNJt"
   },
   "outputs": [],
   "source": []
  }
 ],
 "metadata": {
  "accelerator": "TPU",
  "colab": {
   "gpuType": "V28",
   "provenance": []
  },
  "kernelspec": {
   "display_name": "Python 3 (ipykernel)",
   "language": "python",
   "name": "python3"
  },
  "language_info": {
   "codemirror_mode": {
    "name": "ipython",
    "version": 3
   },
   "file_extension": ".py",
   "mimetype": "text/x-python",
   "name": "python",
   "nbconvert_exporter": "python",
   "pygments_lexer": "ipython3",
   "version": "3.12.7"
  }
 },
 "nbformat": 4,
 "nbformat_minor": 4
}
